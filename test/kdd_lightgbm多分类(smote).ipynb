{
 "cells": [
  {
   "cell_type": "markdown",
   "metadata": {},
   "source": [
    "# 条件：此处针对多分类问题，即分类包括normal, U2R, R2L, Dos, PROBING\n",
    "    如果是二分类问题，分类应该包括正常、异常\n",
    "    或者另一种多分类问题就是，23种分类(完整数据集也是有23种分类)\n",
    "    \n",
    "    问题1：现在不明确分类中1，2，3，4对应哪一个入侵类型？\n",
    "    问题2：训练集中的23个类别标签已分类，那么测试集中38个分类标签该如何分类?"
   ]
  },
  {
   "cell_type": "markdown",
   "metadata": {},
   "source": [
    "## 加载数据和特征"
   ]
  },
  {
   "cell_type": "code",
   "execution_count": 1,
   "metadata": {},
   "outputs": [
    {
     "data": {
      "text/plain": [
       "(494021, 42)"
      ]
     },
     "execution_count": 1,
     "metadata": {},
     "output_type": "execute_result"
    }
   ],
   "source": [
    "import pandas as pd\n",
    "import os\n",
    "# os.listdir(\"datafile\")\n",
    "\n",
    "##相关特征##\n",
    "Features=['duration','protocol_type','service','flag','src_bytes','dst_bytes','land','wrong_fragment','urgent',\n",
    "         'hot','num_failed_logins','logged_in','num_compromised','root_shell','su_attempted','num_root',\n",
    "          'num_file_creations','num_shells','num_access_files','num_outbound_cmds','is_hot_login','is_guest_login',\n",
    "         'count','srv_count','serror_rate','srv_serror_rate','rerror_rate','srv_rerror_rate','same_srv_rate',\n",
    "          'diff_srv_rate','srv_diff_host_rate',\n",
    "         'dst_hosts_count','dst_host_srv_count','dst_host_same_srv_rate','dst_host_diff_srv_rate',\n",
    "          'dst_host_same_src_port_rate','dst_host_srv_diff_host_rate','dst_host_serror_rate',\n",
    "          'dst_host_srv_serror_rate','dst_host_rerror_rate','st_host_srv_rerror_rate', \n",
    "         'label']\n",
    "\n",
    "Features_continue = ['duration','src_bytes','dst_bytes','wrong_fragment','urgent',\n",
    "                    'hot','num_failed_logins','num_compromised','num_root','num_file_creations','num_shells',\n",
    "                     'num_access_files','num_outbound_cmds',\n",
    "                    'count','srv_count','serror_rate','srv_serror_rate','rerror_rate','srv_rerror_rate',\n",
    "                     'same_srv_rate','diff_srv_rate','srv_diff_host_rate',\n",
    "                    'dst_hosts_count','dst_host_srv_count','dst_host_same_srv_rate','dst_host_diff_srv_rate',\n",
    "                     'dst_host_same_src_port_rate','dst_host_srv_diff_host_rate','dst_host_serror_rate',\n",
    "                     'dst_host_srv_serror_rate','dst_host_rerror_rate','st_host_srv_rerror_rate']\n",
    "\n",
    "Features_discrete = ['protocol_type', 'service', 'flag', 'land', 'logged_in', 'root_shell', 'su_attempted', \n",
    "                     'is_hot_login', 'is_guest_login', 'label']\n",
    "\n",
    "Features_num = ['duration', 'src_bytes','dst_bytes','land','wrong_fragment','urgent',\n",
    "                 'hot','num_failed_logins','logged_in','num_compromised','root_shell','su_attempted','num_root',\n",
    "                  'num_file_creations','num_shells','num_access_files','num_outbound_cmds','is_hot_login','is_guest_login',\n",
    "                 'count','srv_count','serror_rate','srv_serror_rate','rerror_rate','srv_rerror_rate','same_srv_rate',\n",
    "                  'diff_srv_rate','srv_diff_host_rate',\n",
    "                 'dst_hosts_count','dst_host_srv_count','dst_host_same_srv_rate','dst_host_diff_srv_rate',\n",
    "                  'dst_host_same_src_port_rate','dst_host_srv_diff_host_rate','dst_host_serror_rate',\n",
    "                  'dst_host_srv_serror_rate','dst_host_rerror_rate','st_host_srv_rerror_rate' ] \n",
    "\n",
    "Features_NonNumerical = ['protocol_type', 'service', 'flag', 'label']\n",
    "\n",
    "Features_important = ['duration', 'protocol_type', 'service', 'src_bytes', 'dst_bytes','urgent', 'count',\n",
    "                      'srv_count', 'same_srv_rate', 'dst_host_count', 'dst_host_srv_count', 'dst_host_same_srv_rate', \n",
    "                      'dst_host_same_src_port_rate']\n",
    "\n",
    "##相关类别标签##\n",
    "labels=['normal.', 'buffer_overflow.', 'loadmodule.', 'perl.', 'neptune.', 'smurf.', 'guess_passwd.', 'pod.', \n",
    "        'teardrop.', 'portsweep.', 'ipsweep.', 'land.', 'ftp_write.', 'back.', 'imap.', 'satan.', 'phf.',\n",
    "        'nmap.', 'multihop.', 'warezmaster.', 'warezclient.', 'spy.', 'rootkit.'] + ['snmpgetattack.', \n",
    "        'named.', 'xlock.', 'xsnoop.', 'sendmail.', 'saint.', 'apache2.', 'udpstorm.', \n",
    "         'xterm.', 'mscan.', 'processtable.', 'ps.', 'httptunnel.', 'worm.', 'mailbomb.', 'sqlattack.', 'snmpguess.']\n",
    "labels_Normal = ['normal.']\n",
    "labels_Dos = ['back.', 'land.', 'neptune.', 'pod.', 'smurf.', 'teardrop.'] + ['apache2.', 'mailbomb.', 'processtable.', 'udpstorm.']\n",
    "labels_Probing = ['ipsweep.', 'nmap.', 'portsweep.', 'satan.'] + ['mscan.', 'saint.']\n",
    "labels_R2L = ['ftp_write.', 'guess_passwd.', 'imap.', 'multihop.', 'phf.', 'spy.', 'warezclient.', 'warezmaster.'] + ['snmpgetattack.',\n",
    "                'named.', 'sendmail.', 'snmpgeattack.', 'snmpguess.', 'worm.', 'xlock.', 'xsnoop.']\n",
    "labels_U2R = ['buffer_overflow.', 'loadmodule.', 'perl.', 'rootkit.'] + ['httptunnel.', 'ps.', 'sqlattack.', 'xterm.']\n",
    "\n",
    "kdd_df = pd.read_csv(\"./input_data/kddcup.data_10_percent_corrected\", names=Features)\n",
    "# kddTotal_df = pd.read_csv(\"./input_data/kddcup.data.corrected\", names=Features)\n",
    "# kdd_df = kdd_df[kdd_df.duplicated()==False]   #取出非重复行\n",
    "kdd_df.shape"
   ]
  },
  {
   "cell_type": "code",
   "execution_count": 2,
   "metadata": {},
   "outputs": [
    {
     "name": "stdout",
     "output_type": "stream",
     "text": [
      "该数据集总数为： 494021 ，其中\n",
      "  normal类型总数为： 97278\n",
      "  Dos类型总数为： 391458\n",
      "  Probing类型总数为： 4107\n",
      "  R2L类型总数为： 1126\n",
      "  U2R类型总数为： 52\n",
      "['normal.' 'buffer_overflow.' 'loadmodule.' 'perl.' 'neptune.' 'smurf.'\n",
      " 'guess_passwd.' 'pod.' 'teardrop.' 'portsweep.' 'ipsweep.' 'land.'\n",
      " 'ftp_write.' 'back.' 'imap.' 'satan.' 'phf.' 'nmap.' 'multihop.'\n",
      " 'warezmaster.' 'warezclient.' 'spy.' 'rootkit.'] 23\n"
     ]
    }
   ],
   "source": [
    "def labelCount(df):\n",
    "    ##各类别标签统计函数，输出类别总数##\n",
    "    labels=['normal.', 'buffer_overflow.', 'loadmodule.', 'perl.', 'neptune.', 'smurf.', 'guess_passwd.', 'pod.', \n",
    "        'teardrop.', 'portsweep.', 'ipsweep.', 'land.', 'ftp_write.', 'back.', 'imap.', 'satan.', 'phf.',\n",
    "        'nmap.', 'multihop.', 'warezmaster.', 'warezclient.', 'spy.', 'rootkit.'] + ['snmpgetattack.', \n",
    "        'named.', 'xlock.', 'xsnoop.', 'sendmail.', 'saint.', 'apache2.', 'udpstorm.', \n",
    "         'xterm.', 'mscan.', 'processtable.', 'ps.', 'httptunnel.', 'worm.', 'mailbomb.', 'sqlattack.', 'snmpguess.']\n",
    "    labels_Normal = ['normal.']\n",
    "    labels_Dos = ['back.', 'land.', 'neptune.', 'pod.', 'smurf.', 'teardrop.'] + ['apache2.', 'mailbomb.', 'processtable.', 'udpstorm.']\n",
    "    labels_Probing = ['ipsweep.', 'nmap.', 'portsweep.', 'satan.'] + ['mscan.', 'saint.']\n",
    "    labels_R2L = ['ftp_write.', 'guess_passwd.', 'imap.', 'multihop.', 'phf.', 'spy.', 'warezclient.', 'warezmaster.'] + ['snmpgetattack.',\n",
    "                    'named.', 'sendmail.', 'snmpgeattack.', 'snmpguess.', 'worm.', 'xlock.', 'xsnoop.']\n",
    "    labels_U2R = ['buffer_overflow.', 'loadmodule.', 'perl.', 'rootkit.'] + ['httptunnel.', 'ps.', 'sqlattack.', 'xterm.']\n",
    "\n",
    "    total = df['label'].count()\n",
    "    totalNormal = df.loc[df['label']=='normal.', 'label'].count()\n",
    "    totalDos = df.loc[df['label'].isin(labels_Dos), 'label'].count()\n",
    "    totalProb = df.loc[df['label'].isin(labels_Probing), 'label'].count()\n",
    "    totalR2L = df.loc[df['label'].isin(labels_R2L), 'label'].count()\n",
    "    totalU2R = df.loc[df['label'].isin(labels_U2R), 'label'].count()\n",
    "\n",
    "    print(\"该数据集总数为：\", total, \"，其中\")\n",
    "    print(\"  normal类型总数为：\", totalNormal)\n",
    "    print(\"  Dos类型总数为：\", totalDos)\n",
    "    print(\"  Probing类型总数为：\", totalProb)\n",
    "    print(\"  R2L类型总数为：\", totalR2L)\n",
    "    print(\"  U2R类型总数为：\", totalU2R)\n",
    "    print(df['label'].unique(), df['label'].nunique())\n",
    "    \n",
    "labelCount(kdd_df)"
   ]
  },
  {
   "cell_type": "code",
   "execution_count": 3,
   "metadata": {},
   "outputs": [
    {
     "data": {
      "text/plain": [
       "(494021, 42)"
      ]
     },
     "execution_count": 3,
     "metadata": {},
     "output_type": "execute_result"
    }
   ],
   "source": [
    "kdd_df.shape"
   ]
  },
  {
   "cell_type": "markdown",
   "metadata": {},
   "source": [
    "## 特征工程和数据预处理"
   ]
  },
  {
   "cell_type": "code",
   "execution_count": 4,
   "metadata": {},
   "outputs": [
    {
     "name": "stdout",
     "output_type": "stream",
     "text": [
      "protocol_type\n",
      "service\n",
      "flag\n",
      "label\n"
     ]
    }
   ],
   "source": [
    "from sklearn import preprocessing\n",
    "\n",
    "def FeaturePreprocessing(df):\n",
    "    ##特征预处理函数，input:DataFrame， output:DataFrame##\n",
    "    labels=['normal.', 'buffer_overflow.', 'loadmodule.', 'perl.', 'neptune.', 'smurf.', 'guess_passwd.', 'pod.', \n",
    "        'teardrop.', 'portsweep.', 'ipsweep.', 'land.', 'ftp_write.', 'back.', 'imap.', 'satan.', 'phf.',\n",
    "        'nmap.', 'multihop.', 'warezmaster.', 'warezclient.', 'spy.', 'rootkit.'] + ['snmpgetattack.', \n",
    "        'named.', 'xlock.', 'xsnoop.', 'sendmail.', 'saint.', 'apache2.', 'udpstorm.', \n",
    "         'xterm.', 'mscan.', 'processtable.', 'ps.', 'httptunnel.', 'worm.', 'mailbomb.', 'sqlattack.', 'snmpguess.']\n",
    "    labels_Normal = ['normal.']\n",
    "    labels_Dos = ['back.', 'land.', 'neptune.', 'pod.', 'smurf.', 'teardrop.'] + ['apache2.', 'mailbomb.', 'processtable.', 'udpstorm.']\n",
    "    labels_Probing = ['ipsweep.', 'nmap.', 'portsweep.', 'satan.'] + ['mscan.', 'saint.']\n",
    "    labels_R2L = ['ftp_write.', 'guess_passwd.', 'imap.', 'multihop.', 'phf.', 'spy.', 'warezclient.', 'warezmaster.'] + ['snmpgetattack.',\n",
    "                    'named.', 'sendmail.', 'snmpgeattack.', 'snmpguess.', 'worm.', 'xlock.', 'xsnoop.']\n",
    "    labels_U2R = ['buffer_overflow.', 'loadmodule.', 'perl.', 'rootkit.'] + ['httptunnel.', 'ps.', 'sqlattack.', 'xterm.']\n",
    "\n",
    "    df.loc[df['label']=='normal.', 'label'] = 'normal'\n",
    "    df.loc[df['label'].isin(labels_Dos), 'label'] = 'Dos'\n",
    "    df.loc[df['label'].isin(labels_Probing), 'label'] = 'Probing'\n",
    "    df.loc[df['label'].isin(labels_R2L), 'label'] = 'R2L'\n",
    "    df.loc[df['label'].isin(labels_U2R), 'label'] = 'U2R'\n",
    "    \n",
    "    # 编码分类变量，并将数值变量转换为浮点数\n",
    "    ##此处每将labels进行分类，因此编码时按照23种类别进行分类，而不是5种类别##\n",
    "    Features_NonNumerical = ['protocol_type', 'service', 'flag', 'label']\n",
    "    for col in Features_NonNumerical:\n",
    "        print(col)\n",
    "        lbl = preprocessing.LabelEncoder()\n",
    "        lbl.fit(list(df.loc[:,col].values.astype('str')))\n",
    "        df.loc[:,col] = lbl.transform(list(df.loc[:,col].values.astype('str')))\n",
    "\n",
    "    Features_num = ['duration', 'src_bytes','dst_bytes','land','wrong_fragment','urgent',\n",
    "                     'hot','num_failed_logins','logged_in','num_compromised','root_shell','su_attempted','num_root',\n",
    "                      'num_file_creations','num_shells','num_access_files','num_outbound_cmds','is_hot_login','is_guest_login',\n",
    "                     'count','srv_count','serror_rate','srv_serror_rate','rerror_rate','srv_rerror_rate','same_srv_rate',\n",
    "                      'diff_srv_rate','srv_diff_host_rate',\n",
    "                     'dst_hosts_count','dst_host_srv_count','dst_host_same_srv_rate','dst_host_diff_srv_rate',\n",
    "                      'dst_host_same_src_port_rate','dst_host_srv_diff_host_rate','dst_host_serror_rate',\n",
    "                      'dst_host_srv_serror_rate','dst_host_rerror_rate','st_host_srv_rerror_rate' ]    \n",
    "    for col in Features_num:\n",
    "        df.loc[:,col] = df.loc[:,col].astype(float)\n",
    "        \n",
    "    return df\n",
    "\n",
    "# # Split the train dataset into development and valid based on time 分割数据集，进而基于时间进行开发和验证\n",
    "# dev_df = train_df[train_df['date']<=datetime.date(2017,5,31)]\n",
    "# val_df = train_df[train_df['date']>datetime.date(2017,5,31)]\n",
    "# dev_y = np.log1p(dev_df[\"totals.transactionRevenue\"].values)\n",
    "# val_y = np.log1p(val_df[\"totals.transactionRevenue\"].values)\n",
    "\n",
    "# dev_X = dev_df[cat_cols + num_cols] \n",
    "# val_X = val_df[cat_cols + num_cols] \n",
    "# test_X = test_df[cat_cols + num_cols] \n",
    "\n",
    "kdd_df = FeaturePreprocessing(kdd_df)"
   ]
  },
  {
   "cell_type": "code",
   "execution_count": 5,
   "metadata": {},
   "outputs": [
    {
     "name": "stdout",
     "output_type": "stream",
     "text": [
      "正常类型数量： 97278   对应标签为： 4\n",
      "Dos类型数量： 391458   对应标签为： 0\n",
      "Probing类型数量： 4107   对应标签为： 1\n",
      "R2L类型数量： 1126   对应标签为： 2\n",
      "U2R类型数量： 52   对应标签为： 3\n"
     ]
    }
   ],
   "source": [
    "##类标标签与数值对应函数##\n",
    "def labelCorresponding(df):\n",
    "    print(\"正常类型数量：\", df[df['label']==4]['label'].count(), \"  对应标签为：\", 4)\n",
    "    print(\"Dos类型数量：\", df[df['label']==0]['label'].count(), \"  对应标签为：\", 0)\n",
    "    print(\"Probing类型数量：\", df[df['label']==1]['label'].count(), \"  对应标签为：\", 1)\n",
    "    print(\"R2L类型数量：\", df[df['label']==2]['label'].count(), \"  对应标签为：\", 2)\n",
    "    print(\"U2R类型数量：\", df[df['label']==3]['label'].count(), \"  对应标签为：\", 3)\n",
    "    \n",
    "labelCorresponding(kdd_df)"
   ]
  },
  {
   "cell_type": "code",
   "execution_count": 6,
   "metadata": {},
   "outputs": [],
   "source": [
    "##数据均衡##\n",
    "from imblearn.over_sampling import SMOTE, ADASYN\n",
    "\n",
    "def DataBalance(df):\n",
    "    X = df.drop(['label'], axis=1)\n",
    "    y = df['label']\n",
    "    X_resampled_smote, y_resampled_smote = SMOTE().fit_sample(X, y)\n",
    "\n",
    "    Features1=['duration','protocol_type','service','flag','src_bytes','dst_bytes','land','wrong_fragment','urgent',\n",
    "         'hot','num_failed_logins','logged_in','num_compromised','root_shell','su_attempted','num_root',\n",
    "          'num_file_creations','num_shells','num_access_files','num_outbound_cmds','is_hot_login','is_guest_login',\n",
    "         'count','srv_count','serror_rate','srv_serror_rate','rerror_rate','srv_rerror_rate','same_srv_rate',\n",
    "          'diff_srv_rate','srv_diff_host_rate',\n",
    "         'dst_hosts_count','dst_host_srv_count','dst_host_same_srv_rate','dst_host_diff_srv_rate',\n",
    "          'dst_host_same_src_port_rate','dst_host_srv_diff_host_rate','dst_host_serror_rate',\n",
    "          'dst_host_srv_serror_rate','dst_host_rerror_rate','st_host_srv_rerror_rate', \n",
    "          ]\n",
    "\n",
    "    kdd_df1 = pd.DataFrame(X_resampled_smote, columns = Features1)\n",
    "    kdd_df2 = pd.DataFrame(y_resampled_smote, columns = ['label'])\n",
    "    df = pd.concat([kdd_df1, kdd_df2], axis=1)\n",
    "    return df\n",
    "\n",
    "kddBalance_df = DataBalance(kdd_df)"
   ]
  },
  {
   "cell_type": "code",
   "execution_count": 7,
   "metadata": {},
   "outputs": [
    {
     "name": "stdout",
     "output_type": "stream",
     "text": [
      "(494021, 42)\n",
      "正常类型数量： 97278   对应标签为： 4\n",
      "Dos类型数量： 391458   对应标签为： 0\n",
      "Probing类型数量： 4107   对应标签为： 1\n",
      "R2L类型数量： 1126   对应标签为： 2\n",
      "U2R类型数量： 52   对应标签为： 3\n",
      "None\n",
      "(1957290, 42)\n",
      "正常类型数量： 391458   对应标签为： 4\n",
      "Dos类型数量： 391458   对应标签为： 0\n",
      "Probing类型数量： 391458   对应标签为： 1\n",
      "R2L类型数量： 391458   对应标签为： 2\n",
      "U2R类型数量： 391458   对应标签为： 3\n",
      "None\n"
     ]
    }
   ],
   "source": [
    "print(kdd_df.shape)\n",
    "print(labelCorresponding(kdd_df))\n",
    "print(kddBalance_df.shape)\n",
    "print(labelCorresponding(kddBalance_df))"
   ]
  },
  {
   "cell_type": "code",
   "execution_count": 8,
   "metadata": {},
   "outputs": [],
   "source": [
    "##划分训练集和测试集##\n",
    "from sklearn.model_selection import train_test_split\n",
    "dev_df, val_df = train_test_split(kddBalance_df, test_size=0.1,random_state=1)   #随机分配测试集\n",
    "num1 = dev_df.shape[0]\n",
    "num2 = dev_df.shape[0]\n",
    "kddBalance_df = pd.concat([dev_df, val_df], axis=0)"
   ]
  },
  {
   "cell_type": "code",
   "execution_count": 9,
   "metadata": {},
   "outputs": [
    {
     "data": {
      "text/html": [
       "<div>\n",
       "<style scoped>\n",
       "    .dataframe tbody tr th:only-of-type {\n",
       "        vertical-align: middle;\n",
       "    }\n",
       "\n",
       "    .dataframe tbody tr th {\n",
       "        vertical-align: top;\n",
       "    }\n",
       "\n",
       "    .dataframe thead th {\n",
       "        text-align: right;\n",
       "    }\n",
       "</style>\n",
       "<table border=\"1\" class=\"dataframe\">\n",
       "  <thead>\n",
       "    <tr style=\"text-align: right;\">\n",
       "      <th></th>\n",
       "      <th>duration</th>\n",
       "      <th>protocol_type</th>\n",
       "      <th>service</th>\n",
       "      <th>flag</th>\n",
       "      <th>src_bytes</th>\n",
       "      <th>dst_bytes</th>\n",
       "      <th>land</th>\n",
       "      <th>wrong_fragment</th>\n",
       "      <th>urgent</th>\n",
       "      <th>hot</th>\n",
       "      <th>...</th>\n",
       "      <th>dst_host_srv_count</th>\n",
       "      <th>dst_host_same_srv_rate</th>\n",
       "      <th>dst_host_diff_srv_rate</th>\n",
       "      <th>dst_host_same_src_port_rate</th>\n",
       "      <th>dst_host_srv_diff_host_rate</th>\n",
       "      <th>dst_host_serror_rate</th>\n",
       "      <th>dst_host_srv_serror_rate</th>\n",
       "      <th>dst_host_rerror_rate</th>\n",
       "      <th>st_host_srv_rerror_rate</th>\n",
       "      <th>label</th>\n",
       "    </tr>\n",
       "  </thead>\n",
       "  <tbody>\n",
       "    <tr>\n",
       "      <th>1259816</th>\n",
       "      <td>0.000000</td>\n",
       "      <td>1.0</td>\n",
       "      <td>56.000000</td>\n",
       "      <td>2.0</td>\n",
       "      <td>126.000000</td>\n",
       "      <td>179.000000</td>\n",
       "      <td>0.0</td>\n",
       "      <td>0.0</td>\n",
       "      <td>0.0</td>\n",
       "      <td>1.000000</td>\n",
       "      <td>...</td>\n",
       "      <td>28.496326</td>\n",
       "      <td>1.000000</td>\n",
       "      <td>0.00000</td>\n",
       "      <td>0.035012</td>\n",
       "      <td>0.000000</td>\n",
       "      <td>0.07</td>\n",
       "      <td>0.07</td>\n",
       "      <td>0.930000</td>\n",
       "      <td>0.930000</td>\n",
       "      <td>2</td>\n",
       "    </tr>\n",
       "    <tr>\n",
       "      <th>397767</th>\n",
       "      <td>0.000000</td>\n",
       "      <td>0.0</td>\n",
       "      <td>14.000000</td>\n",
       "      <td>9.0</td>\n",
       "      <td>520.000000</td>\n",
       "      <td>0.000000</td>\n",
       "      <td>0.0</td>\n",
       "      <td>0.0</td>\n",
       "      <td>0.0</td>\n",
       "      <td>0.000000</td>\n",
       "      <td>...</td>\n",
       "      <td>255.000000</td>\n",
       "      <td>1.000000</td>\n",
       "      <td>0.00000</td>\n",
       "      <td>1.000000</td>\n",
       "      <td>0.000000</td>\n",
       "      <td>0.00</td>\n",
       "      <td>0.00</td>\n",
       "      <td>0.000000</td>\n",
       "      <td>0.000000</td>\n",
       "      <td>0</td>\n",
       "    </tr>\n",
       "    <tr>\n",
       "      <th>1519477</th>\n",
       "      <td>293.645626</td>\n",
       "      <td>1.0</td>\n",
       "      <td>56.000000</td>\n",
       "      <td>9.0</td>\n",
       "      <td>1719.508761</td>\n",
       "      <td>2763.007374</td>\n",
       "      <td>0.0</td>\n",
       "      <td>0.0</td>\n",
       "      <td>0.0</td>\n",
       "      <td>3.000000</td>\n",
       "      <td>...</td>\n",
       "      <td>4.352074</td>\n",
       "      <td>1.000000</td>\n",
       "      <td>0.00000</td>\n",
       "      <td>0.466553</td>\n",
       "      <td>0.455991</td>\n",
       "      <td>0.00</td>\n",
       "      <td>0.00</td>\n",
       "      <td>0.010562</td>\n",
       "      <td>0.010562</td>\n",
       "      <td>3</td>\n",
       "    </tr>\n",
       "    <tr>\n",
       "      <th>1386118</th>\n",
       "      <td>23.196499</td>\n",
       "      <td>1.0</td>\n",
       "      <td>38.072677</td>\n",
       "      <td>9.0</td>\n",
       "      <td>138.148041</td>\n",
       "      <td>2222.519507</td>\n",
       "      <td>0.0</td>\n",
       "      <td>0.0</td>\n",
       "      <td>0.0</td>\n",
       "      <td>0.484522</td>\n",
       "      <td>...</td>\n",
       "      <td>41.730823</td>\n",
       "      <td>0.489677</td>\n",
       "      <td>0.01031</td>\n",
       "      <td>0.484522</td>\n",
       "      <td>0.009690</td>\n",
       "      <td>0.00</td>\n",
       "      <td>0.00</td>\n",
       "      <td>0.355680</td>\n",
       "      <td>0.000000</td>\n",
       "      <td>3</td>\n",
       "    </tr>\n",
       "    <tr>\n",
       "      <th>893978</th>\n",
       "      <td>1.162665</td>\n",
       "      <td>1.0</td>\n",
       "      <td>18.000000</td>\n",
       "      <td>9.0</td>\n",
       "      <td>1224.487996</td>\n",
       "      <td>2449.000000</td>\n",
       "      <td>0.0</td>\n",
       "      <td>0.0</td>\n",
       "      <td>0.0</td>\n",
       "      <td>28.000000</td>\n",
       "      <td>...</td>\n",
       "      <td>61.674669</td>\n",
       "      <td>0.240000</td>\n",
       "      <td>0.02000</td>\n",
       "      <td>0.000000</td>\n",
       "      <td>0.000000</td>\n",
       "      <td>0.00</td>\n",
       "      <td>0.00</td>\n",
       "      <td>0.000000</td>\n",
       "      <td>0.000000</td>\n",
       "      <td>2</td>\n",
       "    </tr>\n",
       "  </tbody>\n",
       "</table>\n",
       "<p>5 rows × 42 columns</p>\n",
       "</div>"
      ],
      "text/plain": [
       "           duration  protocol_type    service  flag    src_bytes    dst_bytes  \\\n",
       "1259816    0.000000            1.0  56.000000   2.0   126.000000   179.000000   \n",
       "397767     0.000000            0.0  14.000000   9.0   520.000000     0.000000   \n",
       "1519477  293.645626            1.0  56.000000   9.0  1719.508761  2763.007374   \n",
       "1386118   23.196499            1.0  38.072677   9.0   138.148041  2222.519507   \n",
       "893978     1.162665            1.0  18.000000   9.0  1224.487996  2449.000000   \n",
       "\n",
       "         land  wrong_fragment  urgent        hot  ...    dst_host_srv_count  \\\n",
       "1259816   0.0             0.0     0.0   1.000000  ...             28.496326   \n",
       "397767    0.0             0.0     0.0   0.000000  ...            255.000000   \n",
       "1519477   0.0             0.0     0.0   3.000000  ...              4.352074   \n",
       "1386118   0.0             0.0     0.0   0.484522  ...             41.730823   \n",
       "893978    0.0             0.0     0.0  28.000000  ...             61.674669   \n",
       "\n",
       "         dst_host_same_srv_rate  dst_host_diff_srv_rate  \\\n",
       "1259816                1.000000                 0.00000   \n",
       "397767                 1.000000                 0.00000   \n",
       "1519477                1.000000                 0.00000   \n",
       "1386118                0.489677                 0.01031   \n",
       "893978                 0.240000                 0.02000   \n",
       "\n",
       "         dst_host_same_src_port_rate  dst_host_srv_diff_host_rate  \\\n",
       "1259816                     0.035012                     0.000000   \n",
       "397767                      1.000000                     0.000000   \n",
       "1519477                     0.466553                     0.455991   \n",
       "1386118                     0.484522                     0.009690   \n",
       "893978                      0.000000                     0.000000   \n",
       "\n",
       "         dst_host_serror_rate  dst_host_srv_serror_rate  dst_host_rerror_rate  \\\n",
       "1259816                  0.07                      0.07              0.930000   \n",
       "397767                   0.00                      0.00              0.000000   \n",
       "1519477                  0.00                      0.00              0.010562   \n",
       "1386118                  0.00                      0.00              0.355680   \n",
       "893978                   0.00                      0.00              0.000000   \n",
       "\n",
       "         st_host_srv_rerror_rate  label  \n",
       "1259816                 0.930000      2  \n",
       "397767                  0.000000      0  \n",
       "1519477                 0.010562      3  \n",
       "1386118                 0.000000      3  \n",
       "893978                  0.000000      2  \n",
       "\n",
       "[5 rows x 42 columns]"
      ]
     },
     "execution_count": 9,
     "metadata": {},
     "output_type": "execute_result"
    }
   ],
   "source": [
    "# labelCount(dev_df)\n",
    "kddBalance_df.head()"
   ]
  },
  {
   "cell_type": "markdown",
   "metadata": {},
   "source": [
    "## DBSCAN聚类去除噪声点\n",
    "    此处有问题：使用DBSCAN密度聚类时，并不确定eps和minPts"
   ]
  },
  {
   "cell_type": "code",
   "execution_count": 10,
   "metadata": {},
   "outputs": [],
   "source": [
    "# import numpy as np\n",
    "\n",
    "# from sklearn.cluster import DBSCAN\n",
    "# from sklearn import metrics\n",
    "# from sklearn.datasets.samples_generator import make_blobs\n",
    "# from sklearn.preprocessing import StandardScaler\n",
    "\n",
    "# labels_ture = kdd_df['label']\n",
    "# X = kdd_df.drop(labels=['label'], axis=1)\n",
    "# X = StandardScaler().fit_transform(X)\n",
    "\n",
    "# db = DBSCAN(eps=0.3, min_samples=10).fit(X)\n",
    "# core_samples_mask = np.zeros_like(db.labels_, dtype=bool)\n",
    "# core_samples_mask[db.core_sample_indices_] = True   #False点暂定为噪声点，可认为其不适合作核心点\n",
    "# labels = db.labels_"
   ]
  },
  {
   "cell_type": "markdown",
   "metadata": {},
   "source": [
    "## 模型建立与检验\n",
    "    在lgb.cv()中，得到的是概率，但这是N个n*1的ndarray，此时转化方法如下：\n",
    "    #概率转化为类别，num_class 为类别的种类\n",
    "        pre = np.argmax(pre.reshape(num_class, -1),axis=0)"
   ]
  },
  {
   "cell_type": "code",
   "execution_count": 11,
   "metadata": {},
   "outputs": [],
   "source": [
    "import numpy as np\n",
    "# dev_df = kdd_df.iloc[0:400000,:]\n",
    "# val_df = kdd_df.iloc[400000:494021,:]\n",
    "\n",
    "dev_df = kddBalance_df.iloc[0:num1,:]\n",
    "val_df = kddBalance_df.iloc[num1:num1+num2,:]\n",
    "\n",
    "# dev_y = np.log1p(dev_df[\"label\"].values)\n",
    "# val_y = np.log1p(val_df[\"label\"].values)\n",
    "dev_y = dev_df[\"label\"].values\n",
    "val_y = val_df[\"label\"].values\n",
    "\n",
    "dev_X = dev_df[['protocol_type', 'service', 'flag'] + Features_num] \n",
    "val_X = val_df[['protocol_type', 'service', 'flag'] + Features_num] \n",
    "\n",
    "# test_X = kddTotal_df[['protocol_type', 'service', 'flag'] + Features_num] "
   ]
  },
  {
   "cell_type": "code",
   "execution_count": 12,
   "metadata": {},
   "outputs": [
    {
     "name": "stdout",
     "output_type": "stream",
     "text": [
      "Training until validation scores don't improve for 100 rounds.\n",
      "[100]\tvalid_0's multi_logloss: 0.00297728\n",
      "[200]\tvalid_0's multi_logloss: 0.000375725\n",
      "[300]\tvalid_0's multi_logloss: 0.000140949\n",
      "[400]\tvalid_0's multi_logloss: 9.76136e-05\n",
      "[500]\tvalid_0's multi_logloss: 8.90053e-05\n",
      "[600]\tvalid_0's multi_logloss: 8.48506e-05\n",
      "[700]\tvalid_0's multi_logloss: 8.43882e-05\n",
      "Early stopping, best iteration is:\n",
      "[656]\tvalid_0's multi_logloss: 8.43517e-05\n"
     ]
    }
   ],
   "source": [
    "import lightgbm as lgb\n",
    "# custom function to run light gbm model 自定义一个运行gbm模型的函数\n",
    "def run_lgb(train_X, train_y, val_X, val_y):\n",
    "    params = {\n",
    "#         'task': 'train',\n",
    "#         'boosting_type': 'gbdt',\n",
    "#         'objective': 'binary',\n",
    "#         'metric': {'l2', 'auc'},\n",
    "#         'num_leaves': 31,\n",
    "#         'learning_rate': 0.05,\n",
    "#         'feature_fraction': 0.9,\n",
    "#         'bagging_fraction': 0.8,\n",
    "#         'bagging_freq': 5,\n",
    "#         'verbose': 0\n",
    "        \"objective\" : \"multiclass\",\n",
    "        \"num_class\" : 5,\n",
    "        \"learning_rate\":0.1,\n",
    "        \"lambda_l1\":0.1,\n",
    "        \"lambda_l2\":0.2,\n",
    "        \"max_depth\":4,\n",
    "    }\n",
    "\n",
    "    lgtrain = lgb.Dataset(train_X, label=train_y)\n",
    "    lgval = lgb.Dataset(val_X, label=val_y)\n",
    "    model = lgb.train(params, lgtrain, 1000, valid_sets=[lgval], early_stopping_rounds=100, verbose_eval=100)\n",
    "    \n",
    "#     pred_test_y = model.predict(test_X, num_iteration=model.best_iteration)\n",
    "    pred_val_y = model.predict(val_X, num_iteration=model.best_iteration)\n",
    "    return model, pred_val_y\n",
    "\n",
    "# Training the model #\n",
    "# pred_test, model, pred_val = run_lgb(dev_X, dev_y, val_X, val_y, test_X)\n",
    "model, pred_val = run_lgb(dev_X, dev_y, val_X, val_y)"
   ]
  },
  {
   "cell_type": "code",
   "execution_count": 13,
   "metadata": {},
   "outputs": [
    {
     "data": {
      "text/plain": [
       "<Figure size 640x480 with 1 Axes>"
      ]
     },
     "metadata": {},
     "output_type": "display_data"
    }
   ],
   "source": [
    "## 损失度与迭代次数的曲线\n",
    "import matplotlib.pyplot as plt\n",
    "logloss_dict = {'100':0.00310392, '200':0.000386649, '300':0.000145503, \n",
    "                '400':0.000103992, '500':9.96661e-05, '567':9.779e-05}\n",
    "plt.plot(logloss_dict.keys(), logloss_dict.values())\n",
    "plt.xlabel('Number of iterations')\n",
    "plt.ylabel('logloss')\n",
    "# plt.ylim([0.0002, 0.002])\n",
    "plt.title('loss curve of LightGBM')\n",
    "plt.show()"
   ]
  },
  {
   "cell_type": "markdown",
   "metadata": {},
   "source": [
    "### 实验分组和测评方式\n",
    "    1、四组（每组包括已知入侵和未知入侵）————因此进行训练时可以分为19个已知入侵，3个未知入侵\n",
    "    2、同一组内不同类别标签的识别率；不同组间的相同类别标签的识别率；\n",
    "    3、性能比较：此模型方法和其他模型方法之间的性能比较（检测率和误报率————统计检测率的均值方差和误报率的均值方差）\n",
    "    4、不同方法之间检测时，要严格控制测试数据集一致。\n",
    "    3、测评方式：一般是检测率和误报率"
   ]
  },
  {
   "cell_type": "markdown",
   "metadata": {},
   "source": [
    "## 模型检验与评估\n",
    "以下为10%数据集的检验和特征重要性分析\n",
    "\n",
    "## 机器学习多分类评估方法\n",
    "    宏平均、微平均\n",
    "    更注重样本量多的class，使用宏平均；更注重样本量少的class，使用微平均"
   ]
  },
  {
   "cell_type": "code",
   "execution_count": 14,
   "metadata": {
    "scrolled": false
   },
   "outputs": [
    {
     "name": "stdout",
     "output_type": "stream",
     "text": [
      "[[38930     0     0     0     0]\n",
      " [    0 39216     0     0     1]\n",
      " [    0     0 39253     0     1]\n",
      " [    0     0     0 39421     0]\n",
      " [    0     1     0     1 38905]]\n",
      "总体识别率为： 0.9999795635802564\n",
      "normal识别率为 1.0\n",
      "Dos识别率 0.9999745008542213\n",
      "Probing识别率 1.0\n",
      "R2L识别率 0.9999485953684427\n",
      "U2R识别率 0.9999746334534017\n"
     ]
    },
    {
     "data": {
      "image/png": "[encoded data removed]",
      "text/plain": [
       "<Figure size 288x288 with 1 Axes>"
      ]
     },
     "metadata": {},
     "output_type": "display_data"
    },
    {
     "name": "stdout",
     "output_type": "stream",
     "text": [
      "              precision    recall  f1-score   support\n",
      "\n",
      "           0       1.00      1.00      1.00     38930\n",
      "           1       1.00      1.00      1.00     39217\n",
      "           2       1.00      1.00      1.00     39254\n",
      "           3       1.00      1.00      1.00     39421\n",
      "           4       1.00      1.00      1.00     38907\n",
      "\n",
      "   micro avg       1.00      1.00      1.00    195729\n",
      "   macro avg       1.00      1.00      1.00    195729\n",
      "weighted avg       1.00      1.00      1.00    195729\n",
      "\n"
     ]
    },
    {
     "data": {
      "image/png": "[encoded data removed]",
      "text/plain": [
       "<Figure size 432x288 with 2 Axes>"
      ]
     },
     "metadata": {},
     "output_type": "display_data"
    }
   ],
   "source": [
    "import numpy as np\n",
    "from sklearn.metrics import confusion_matrix\n",
    "import matplotlib.pyplot as plt\n",
    "import seaborn as sns\n",
    "from sklearn.metrics import classification_report\n",
    "\n",
    "def modelCheck(pred_val, df):\n",
    "    ##模型检验函数，input:模型预测分类和实际分类，output：混淆矩阵（图），分类报告##\n",
    "    prediction_val=[]\n",
    "    for x in pred_val:\n",
    "        prediction_val.append(np.argmax(x))\n",
    "\n",
    "    cm = confusion_matrix(df['label'], prediction_val)   #Ci,j表示实际类别为i但是预测为类别j的观测数量\n",
    "    # tn, fp, fn, tp = np.ravel(cm)   #此处结果只针对二分类问题\n",
    "    print(cm)\n",
    "    \n",
    "    ##检测率：指测试集中攻击样本被正确识别为攻击的比例\n",
    "    ##精确率：指测试集中所有被IDS识别为攻击样本中，真正为攻击样本的比值；\n",
    "    ##混淆矩阵中，横向为预测的分类标签，纵向为实际的分类标签\n",
    "    detection_Rate = (cm[0,0]+cm[1,1]+cm[2,2]+cm[3,3]+cm[4,4])/(cm.sum())\n",
    "    detectionNormal_Rate = cm[0,0] / cm[:,0].sum()    # normal检测率\n",
    "    detectionDos_Rate = cm[1,1] / cm[:,1].sum()   # Dos检测率\n",
    "    detectionProbing_Rate = cm[2,2] / cm[:,2].sum()   # Probing检测率\n",
    "    detectionU2R_Rate = cm[3,3] / cm[:,3].sum()   # U2R检测率\n",
    "    detectionR2L_Rate = cm[4,4] / cm[:,4].sum()   # R2L检测率\n",
    "    \n",
    "    print(\"总体识别率为：\", detection_Rate)\n",
    "    print(\"normal识别率为\", detectionNormal_Rate)\n",
    "    print(\"Dos识别率\", detectionDos_Rate)    \n",
    "    print(\"Probing识别率\", detectionProbing_Rate)\n",
    "    print(\"R2L识别率\", detectionR2L_Rate)\n",
    "    print(\"U2R识别率\", detectionU2R_Rate)\n",
    "\n",
    "    # detection_Rate = tp / (tp + fn)    #检测率：99.76%\n",
    "    # falseAlarm_Rate = fp / (fp + tn)   #误报率：0.1996%\n",
    "    # print(\"检测率为：\", detection_Rate)\n",
    "    # print(\"误报率为：\", falseAlarm_Rate)\n",
    "    \n",
    "    # 可视化矩阵图\n",
    "    plt.matshow(cm,cmap=plt.cm.Greens)\n",
    "    plt.show()\n",
    "    \n",
    "    ##多分类评估热点图##\n",
    "    cm_df = pd.DataFrame(cm)\n",
    "    sns.heatmap(cm_df, annot=True)\n",
    "\n",
    "    ##查看多分类的评估报告##\n",
    "    print(classification_report(df['label'], prediction_val))   #精确率和召回率，f1-score，支持数support\n",
    "    \n",
    "modelCheck(pred_val, val_df)"
   ]
  },
  {
   "cell_type": "code",
   "execution_count": 15,
   "metadata": {},
   "outputs": [
    {
     "data": {
      "image/png": "[encoded data removed]",
      "text/plain": [
       "<Figure size 864x1296 with 1 Axes>"
      ]
     },
     "metadata": {},
     "output_type": "display_data"
    }
   ],
   "source": [
    "import matplotlib.pyplot as plt\n",
    "fig, ax = plt.subplots(figsize=(12,18))\n",
    "lgb.plot_importance(model, max_num_features=50, height=0.8, ax=ax)\n",
    "ax.grid(False)\n",
    "plt.title(\"LightGBM - Feature Importance\", fontsize=15)\n",
    "plt.show()"
   ]
  },
  {
   "cell_type": "markdown",
   "metadata": {},
   "source": [
    "### 以下为完整数据集（4898431行数据，42列特征）的验证和检测率分析"
   ]
  },
  {
   "cell_type": "code",
   "execution_count": 17,
   "metadata": {},
   "outputs": [],
   "source": [
    "Features=['duration','protocol_type','service','flag','src_bytes','dst_bytes','land','wrong_fragment','urgent',\n",
    "         'hot','num_failed_logins','logged_in','num_compromised','root_shell','su_attempted','num_root',\n",
    "          'num_file_creations','num_shells','num_access_files','num_outbound_cmds','is_hot_login','is_guest_login',\n",
    "         'count','srv_count','serror_rate','srv_serror_rate','rerror_rate','srv_rerror_rate','same_srv_rate',\n",
    "          'diff_srv_rate','srv_diff_host_rate',\n",
    "         'dst_hosts_count','dst_host_srv_count','dst_host_same_srv_rate','dst_host_diff_srv_rate',\n",
    "          'dst_host_same_src_port_rate','dst_host_srv_diff_host_rate','dst_host_serror_rate',\n",
    "          'dst_host_srv_serror_rate','dst_host_rerror_rate','st_host_srv_rerror_rate', \n",
    "         'label']\n",
    "\n",
    "kddTotal_df = pd.read_csv(\"./input_data/kddcup.data.corrected\", names=Features)\n"
   ]
  },
  {
   "cell_type": "code",
   "execution_count": 21,
   "metadata": {},
   "outputs": [
    {
     "name": "stdout",
     "output_type": "stream",
     "text": [
      "[[3883356       3       0       0      11]\n",
      " [      4   41005       1       4      88]\n",
      " [      0       0    1125       0       1]\n",
      " [      0       0       0      52       0]\n",
      " [     26      60      58      30  972607]]\n",
      "总体识别率为： 0.9999416139576122\n",
      "normal识别率为 0.9999922747828828\n",
      "Dos识别率 0.9984659588974384\n",
      "Probing识别率 0.950168918918919\n",
      "R2L识别率 0.9998971941190924\n",
      "U2R识别率 0.6046511627906976\n"
     ]
    },
    {
     "data": {
      "image/png": "[encoded data removed]",
      "text/plain": [
       "<Figure size 288x288 with 1 Axes>"
      ]
     },
     "metadata": {},
     "output_type": "display_data"
    },
    {
     "name": "stdout",
     "output_type": "stream",
     "text": [
      "              precision    recall  f1-score   support\n",
      "\n",
      "           0       1.00      1.00      1.00   3883370\n",
      "           1       1.00      1.00      1.00     41102\n",
      "           2       0.95      1.00      0.97      1126\n",
      "           3       0.60      1.00      0.75        52\n",
      "           4       1.00      1.00      1.00    972781\n",
      "\n",
      "   micro avg       1.00      1.00      1.00   4898431\n",
      "   macro avg       0.91      1.00      0.95   4898431\n",
      "weighted avg       1.00      1.00      1.00   4898431\n",
      "\n"
     ]
    },
    {
     "data": {
      "image/png": "[encoded data removed]",
      "text/plain": [
       "<Figure size 432x288 with 2 Axes>"
      ]
     },
     "metadata": {},
     "output_type": "display_data"
    }
   ],
   "source": [
    "kddTotal_df = FeaturePreprocessing(kddTotal_df)\n",
    "test_X = kddTotal_df[['protocol_type', 'service', 'flag'] + Features_num] \n",
    "pred_test_y = model.predict(test_X, num_iteration=model.best_iteration)\n",
    "modelCheck(pred_test_y, kddTotal_df)"
   ]
  },
  {
   "cell_type": "markdown",
   "metadata": {},
   "source": [
    "## 测试集分为四组\n",
    "    1、来自训练集：28000正常+2000异常；\n",
    "    2、来自训练集：28000正常+2000异常；\n",
    "    3、除去训练集之后的部分：28000正常+2000异常;\n",
    "    4、除去训练集之后的部分：28000正常+2000异常;\n",
    "    5、训练集中有23种标签，其中有两种['spy.', 'warezclient.']没有出现在测试集中；\n",
    "    6、测试集中有38种标签，有21种（包括normal）与训练集一样，有17种是未知入侵；"
   ]
  },
  {
   "cell_type": "code",
   "execution_count": 36,
   "metadata": {},
   "outputs": [],
   "source": [
    "##加载含标签测试数据##\n",
    "import pandas as pd\n",
    "Features=['duration','protocol_type','service','flag','src_bytes','dst_bytes','land','wrong_fragment','urgent',\n",
    "         'hot','num_failed_logins','logged_in','num_compromised','root_shell','su_attempted','num_root',\n",
    "          'num_file_creations','num_shells','num_access_files','num_outbound_cmds','is_hot_login','is_guest_login',\n",
    "         'count','srv_count','serror_rate','srv_serror_rate','rerror_rate','srv_rerror_rate','same_srv_rate',\n",
    "          'diff_srv_rate','srv_diff_host_rate',\n",
    "         'dst_hosts_count','dst_host_srv_count','dst_host_same_srv_rate','dst_host_diff_srv_rate',\n",
    "          'dst_host_same_src_port_rate','dst_host_srv_diff_host_rate','dst_host_serror_rate',\n",
    "          'dst_host_srv_serror_rate','dst_host_rerror_rate','st_host_srv_rerror_rate', \n",
    "         'label']\n",
    "\n",
    "testFromTrain_df = pd.read_csv(\"./input_data/kddcup.data_10_percent_corrected\", names=Features)\n",
    "testLabeled_df = pd.read_csv(\"./input_data/corrected\", names=Features)\n",
    "\n",
    "##划分测试集##\n",
    "from sklearn.model_selection import train_test_split\n",
    "first_test, second_test = train_test_split(testFromTrain_df, test_size=0.5, random_state=1)   #从训练集中随机分配测试集\n",
    "third_test, forth_test = train_test_split(testLabeled_df, test_size=0.5, random_state=1)   #从测试集中随机分配测试集\n",
    "\n",
    "# ##区分已知入侵和未知入侵##\n",
    "# labels=['normal.', 'buffer_overflow.', 'loadmodule.', 'perl.', 'neptune.', 'smurf.', 'guess_passwd.', 'pod.', \n",
    "#         'teardrop.', 'portsweep.', 'ipsweep.', 'land.', 'ftp_write.', 'back.', 'imap.', 'satan.', 'phf.',\n",
    "#         'nmap.', 'multihop.', 'warezmaster.', 'warezclient.', 'spy.', 'rootkit.']\n",
    "# testKonwIntrusion_df = testLabeled_df.loc[testLabeled_df['label'].isin(labels), :]\n",
    "# testUnkonwIntrusion_df = testLabeled_df.loc[~testLabeled_df['label'].isin(labels), :]"
   ]
  },
  {
   "cell_type": "code",
   "execution_count": 37,
   "metadata": {},
   "outputs": [
    {
     "name": "stdout",
     "output_type": "stream",
     "text": [
      "20\n",
      "85\n"
     ]
    }
   ],
   "source": [
    "labels_Normal = ['normal.']\n",
    "labels_Dos = ['back.', 'land.', 'neptune.', 'pod.', 'smurf.', 'teardrop.'] + ['apache2.', 'mailbomb.', 'processtable.', 'udpstorm.']\n",
    "labels_Probing = ['ipsweep.', 'nmap.', 'portsweep.', 'satan.'] + ['mscan.', 'saint.']\n",
    "\n",
    "labels_R2L = ['ftp_write.', 'guess_passwd.', 'imap.', 'multihop.', 'phf.', 'spy.', 'warezclient.', 'warezmaster.'] + [\n",
    "                'named.', 'sendmail.', 'snmpgeattack.', 'snmpguess.', 'worm.', 'xlock.', 'xsnoop.']\n",
    "labels_U2R = ['buffer_overflow.', 'loadmodule.', 'perl.', 'rootkit.'] + ['httptunnel.', 'ps.', 'sqlattack.', 'xterm.']\n",
    "\n",
    "labels_Probing1 = ['ipsweep.', 'nmap.', 'portsweep.', 'satan.']\n",
    "labels_Probing2 = ['mscan.', 'saint.']\n",
    "labels_U2R1 = ['buffer_overflow.', 'loadmodule.', 'perl.', 'rootkit.']\n",
    "labels_U2R2 = ['httptunnel.', 'ps.', 'sqlattack.', 'xterm.']\n",
    "\n",
    "print(forth_test.loc[forth_test['label'].isin(labels_U2R1), 'label'].count())\n",
    "print(forth_test.loc[forth_test['label'].isin(labels_U2R2), 'label'].count())"
   ]
  },
  {
   "cell_type": "code",
   "execution_count": 38,
   "metadata": {},
   "outputs": [
    {
     "name": "stdout",
     "output_type": "stream",
     "text": [
      "该数据集总数为： 247010 ，其中\n",
      "  normal类型总数为： 48704\n",
      "  Dos类型总数为： 195642\n",
      "  Probing类型总数为： 2080\n",
      "  R2L类型总数为： 553\n",
      "  U2R类型总数为： 31\n",
      "['neptune.' 'smurf.' 'normal.' 'ipsweep.' 'warezmaster.' 'teardrop.'\n",
      " 'satan.' 'back.' 'warezclient.' 'nmap.' 'portsweep.' 'pod.' 'perl.'\n",
      " 'guess_passwd.' 'land.' 'buffer_overflow.' 'imap.' 'phf.' 'multihop.'\n",
      " 'rootkit.' 'loadmodule.' 'ftp_write.' 'spy.'] 23\n",
      "None\n",
      "该数据集总数为： 247011 ，其中\n",
      "  normal类型总数为： 48574\n",
      "  Dos类型总数为： 195816\n",
      "  Probing类型总数为： 2027\n",
      "  R2L类型总数为： 573\n",
      "  U2R类型总数为： 21\n",
      "['smurf.' 'neptune.' 'normal.' 'ipsweep.' 'satan.' 'nmap.' 'back.'\n",
      " 'warezclient.' 'teardrop.' 'portsweep.' 'pod.' 'guess_passwd.' 'imap.'\n",
      " 'loadmodule.' 'ftp_write.' 'land.' 'rootkit.' 'warezmaster.'\n",
      " 'buffer_overflow.' 'perl.' 'multihop.' 'phf.' 'spy.'] 23\n",
      "None\n",
      "该数据集总数为： 155514 ，其中\n",
      "  normal类型总数为： 30490\n",
      "  Dos类型总数为： 114743\n",
      "  Probing类型总数为： 2054\n",
      "  R2L类型总数为： 8104\n",
      "  U2R类型总数为： 123\n",
      "['neptune.' 'normal.' 'smurf.' 'snmpgetattack.' 'satan.' 'mailbomb.'\n",
      " 'guess_passwd.' 'snmpguess.' 'back.' 'processtable.' 'mscan.' 'nmap.'\n",
      " 'warezmaster.' 'apache2.' 'httptunnel.' 'saint.' 'portsweep.' 'ps.'\n",
      " 'ipsweep.' 'pod.' 'multihop.' 'sqlattack.' 'buffer_overflow.' 'named.'\n",
      " 'land.' 'sendmail.' 'xsnoop.' 'xlock.' 'xterm.' 'worm.' 'imap.'\n",
      " 'teardrop.' 'perl.' 'rootkit.' 'phf.' 'loadmodule.' 'ftp_write.'] 37\n",
      "None\n",
      "该数据集总数为： 155515 ，其中\n",
      "  normal类型总数为： 30103\n",
      "  Dos类型总数为： 115110\n",
      "  Probing类型总数为： 2112\n",
      "  R2L类型总数为： 8085\n",
      "  U2R类型总数为： 105\n",
      "['smurf.' 'rootkit.' 'neptune.' 'saint.' 'normal.' 'mailbomb.'\n",
      " 'guess_passwd.' 'snmpgetattack.' 'mscan.' 'apache2.' 'warezmaster.'\n",
      " 'satan.' 'snmpguess.' 'multihop.' 'back.' 'portsweep.' 'processtable.'\n",
      " 'nmap.' 'httptunnel.' 'ipsweep.' 'pod.' 'perl.' 'buffer_overflow.'\n",
      " 'sendmail.' 'ftp_write.' 'teardrop.' 'named.' 'xterm.' 'land.'\n",
      " 'udpstorm.' 'ps.' 'xlock.' 'sqlattack.' 'xsnoop.' 'loadmodule.' 'phf.'] 36\n",
      "None\n"
     ]
    }
   ],
   "source": [
    "print(labelCount(first_test))\n",
    "print(labelCount(second_test))\n",
    "print(labelCount(third_test))\n",
    "print(labelCount(forth_test))"
   ]
  },
  {
   "cell_type": "code",
   "execution_count": 39,
   "metadata": {
    "scrolled": false
   },
   "outputs": [
    {
     "name": "stderr",
     "output_type": "stream",
     "text": [
      "/home/huge/anaconda3/lib/python3.6/site-packages/pandas/core/indexing.py:543: SettingWithCopyWarning: \n",
      "A value is trying to be set on a copy of a slice from a DataFrame.\n",
      "Try using .loc[row_indexer,col_indexer] = value instead\n",
      "\n",
      "See the caveats in the documentation: http://pandas.pydata.org/pandas-docs/stable/indexing.html#indexing-view-versus-copy\n",
      "  self.obj[item] = s\n"
     ]
    },
    {
     "name": "stdout",
     "output_type": "stream",
     "text": [
      "protocol_type\n",
      "service\n",
      "flag\n",
      "label\n",
      "[[195642      0      0      0      0]\n",
      " [     0 195625      0      0     17]\n",
      " [     0      0 195613     28      1]\n",
      " [     0      0      0 195642      0]\n",
      " [     0      7      0      2 195633]]\n",
      "总体识别率为： 0.9999437748540702\n",
      "normal识别率为 1.0\n",
      "Dos识别率 0.9999642185327554\n",
      "Probing识别率 1.0\n",
      "R2L识别率 0.9999079994479967\n",
      "U2R识别率 0.9998466822028701\n"
     ]
    },
    {
     "data": {
      "image/png": "[encoded data removed]",
      "text/plain": [
       "<Figure size 288x288 with 1 Axes>"
      ]
     },
     "metadata": {},
     "output_type": "display_data"
    },
    {
     "name": "stdout",
     "output_type": "stream",
     "text": [
      "              precision    recall  f1-score   support\n",
      "\n",
      "           0       1.00      1.00      1.00    195642\n",
      "           1       1.00      1.00      1.00    195642\n",
      "           2       1.00      1.00      1.00    195642\n",
      "           3       1.00      1.00      1.00    195642\n",
      "           4       1.00      1.00      1.00    195642\n",
      "\n",
      "   micro avg       1.00      1.00      1.00    978210\n",
      "   macro avg       1.00      1.00      1.00    978210\n",
      "weighted avg       1.00      1.00      1.00    978210\n",
      "\n"
     ]
    },
    {
     "data": {
      "image/png": "[encoded data removed]",
      "text/plain": [
       "<Figure size 432x288 with 2 Axes>"
      ]
     },
     "metadata": {},
     "output_type": "display_data"
    }
   ],
   "source": [
    "##第一组测试##\n",
    "first_test = FeaturePreprocessing(first_test)\n",
    "first_test = DataBalance(first_test)\n",
    "test_X = first_test[['protocol_type', 'service', 'flag'] + Features_num] \n",
    "pred_test1_y = model.predict(test_X, num_iteration=model.best_iteration)\n",
    "modelCheck(pred_test1_y, first_test)"
   ]
  },
  {
   "cell_type": "code",
   "execution_count": 40,
   "metadata": {},
   "outputs": [
    {
     "name": "stderr",
     "output_type": "stream",
     "text": [
      "/home/huge/anaconda3/lib/python3.6/site-packages/pandas/core/indexing.py:543: SettingWithCopyWarning: \n",
      "A value is trying to be set on a copy of a slice from a DataFrame.\n",
      "Try using .loc[row_indexer,col_indexer] = value instead\n",
      "\n",
      "See the caveats in the documentation: http://pandas.pydata.org/pandas-docs/stable/indexing.html#indexing-view-versus-copy\n",
      "  self.obj[item] = s\n"
     ]
    },
    {
     "name": "stdout",
     "output_type": "stream",
     "text": [
      "protocol_type\n",
      "service\n",
      "flag\n",
      "label\n",
      "[[195815      0      0      0      1]\n",
      " [     0 195737      0      0     79]\n",
      " [     0      0 195774      0     42]\n",
      " [     0      0      0 195762     54]\n",
      " [     0      9      0      2 195805]]\n",
      "总体识别率为： 0.9998090043714507\n",
      "normal识别率为 1.0\n",
      "Dos识别率 0.9999540220489819\n",
      "Probing识别率 1.0\n",
      "R2L识别率 0.9991019537608238\n",
      "U2R识别率 0.9999897836170082\n"
     ]
    },
    {
     "data": {
      "image/png": "[encoded data removed]",
      "text/plain": [
       "<Figure size 288x288 with 1 Axes>"
      ]
     },
     "metadata": {},
     "output_type": "display_data"
    },
    {
     "name": "stdout",
     "output_type": "stream",
     "text": [
      "              precision    recall  f1-score   support\n",
      "\n",
      "           0       1.00      1.00      1.00    195816\n",
      "           1       1.00      1.00      1.00    195816\n",
      "           2       1.00      1.00      1.00    195816\n",
      "           3       1.00      1.00      1.00    195816\n",
      "           4       1.00      1.00      1.00    195816\n",
      "\n",
      "   micro avg       1.00      1.00      1.00    979080\n",
      "   macro avg       1.00      1.00      1.00    979080\n",
      "weighted avg       1.00      1.00      1.00    979080\n",
      "\n"
     ]
    },
    {
     "data": {
      "image/png": "[encoded data removed]",
      "text/plain": [
       "<Figure size 432x288 with 2 Axes>"
      ]
     },
     "metadata": {},
     "output_type": "display_data"
    }
   ],
   "source": [
    "##第二组测试##\n",
    "second_test = FeaturePreprocessing(second_test)\n",
    "second_test = DataBalance(second_test)\n",
    "test_X = second_test[['protocol_type', 'service', 'flag'] + Features_num] \n",
    "pred_test2_y = model.predict(test_X, num_iteration=model.best_iteration)\n",
    "modelCheck(pred_test2_y, second_test)"
   ]
  },
  {
   "cell_type": "code",
   "execution_count": 41,
   "metadata": {},
   "outputs": [
    {
     "name": "stderr",
     "output_type": "stream",
     "text": [
      "/home/huge/anaconda3/lib/python3.6/site-packages/pandas/core/indexing.py:543: SettingWithCopyWarning: \n",
      "A value is trying to be set on a copy of a slice from a DataFrame.\n",
      "Try using .loc[row_indexer,col_indexer] = value instead\n",
      "\n",
      "See the caveats in the documentation: http://pandas.pydata.org/pandas-docs/stable/indexing.html#indexing-view-versus-copy\n",
      "  self.obj[item] = s\n"
     ]
    },
    {
     "name": "stdout",
     "output_type": "stream",
     "text": [
      "protocol_type\n",
      "service\n",
      "flag\n",
      "label\n",
      "[[111689     40      0      0   3014]\n",
      " [  3289  87272      4      0  24178]\n",
      " [     0    302   6591     69 107781]\n",
      " [     0  14625   6638  15683  77797]\n",
      " [   124    460      8      8 114143]]\n",
      "总体识别率为： 0.584572479366933\n",
      "normal识别率为 0.9703480391305104\n",
      "Dos识别率 0.8497843211715791\n",
      "Probing识别率 0.49777207159580095\n",
      "R2L识别率 0.34915405627796997\n",
      "U2R识别率 0.9951142131979696\n"
     ]
    },
    {
     "data": {
      "image/png": "[encoded data removed]",
      "text/plain": [
       "<Figure size 288x288 with 1 Axes>"
      ]
     },
     "metadata": {},
     "output_type": "display_data"
    },
    {
     "name": "stdout",
     "output_type": "stream",
     "text": [
      "              precision    recall  f1-score   support\n",
      "\n",
      "           0       0.97      0.97      0.97    114743\n",
      "           1       0.85      0.76      0.80    114743\n",
      "           2       0.50      0.06      0.10    114743\n",
      "           3       1.00      0.14      0.24    114743\n",
      "           4       0.35      0.99      0.52    114743\n",
      "\n",
      "   micro avg       0.58      0.58      0.58    573715\n",
      "   macro avg       0.73      0.58      0.53    573715\n",
      "weighted avg       0.73      0.58      0.53    573715\n",
      "\n"
     ]
    },
    {
     "data": {
      "image/png": "[encoded data removed]",
      "text/plain": [
       "<Figure size 432x288 with 2 Axes>"
      ]
     },
     "metadata": {},
     "output_type": "display_data"
    }
   ],
   "source": [
    "##第三组测试##\n",
    "third_test = FeaturePreprocessing(third_test)\n",
    "third_test = DataBalance(third_test)\n",
    "test_X = third_test[['protocol_type', 'service', 'flag'] + Features_num] \n",
    "pred_test3_y = model.predict(test_X, num_iteration=model.best_iteration)\n",
    "modelCheck(pred_test3_y, third_test)"
   ]
  },
  {
   "cell_type": "code",
   "execution_count": 42,
   "metadata": {},
   "outputs": [
    {
     "name": "stderr",
     "output_type": "stream",
     "text": [
      "/home/huge/anaconda3/lib/python3.6/site-packages/pandas/core/indexing.py:543: SettingWithCopyWarning: \n",
      "A value is trying to be set on a copy of a slice from a DataFrame.\n",
      "Try using .loc[row_indexer,col_indexer] = value instead\n",
      "\n",
      "See the caveats in the documentation: http://pandas.pydata.org/pandas-docs/stable/indexing.html#indexing-view-versus-copy\n",
      "  self.obj[item] = s\n"
     ]
    },
    {
     "name": "stdout",
     "output_type": "stream",
     "text": [
      "protocol_type\n",
      "service\n",
      "flag\n",
      "label\n",
      "[[112160     27      0      0   2923]\n",
      " [  3893  87789     18      0  23410]\n",
      " [     4    462   6050     44 108550]\n",
      " [     0  15113   2931  18751  78315]\n",
      " [   150    433     10      8 114509]]\n",
      "总体识别率为： 0.5894518286856051\n",
      "normal识别率为 0.9651742149784437\n",
      "Dos识别率 0.8455559408229311\n",
      "Probing识别率 0.6715506715506715\n",
      "R2L识别率 0.3494249436234197\n",
      "U2R识别率 0.9972344838589586\n"
     ]
    },
    {
     "data": {
      "image/png": "[encoded data removed]",
      "text/plain": [
       "<Figure size 288x288 with 1 Axes>"
      ]
     },
     "metadata": {},
     "output_type": "display_data"
    },
    {
     "name": "stdout",
     "output_type": "stream",
     "text": [
      "              precision    recall  f1-score   support\n",
      "\n",
      "           0       0.97      0.97      0.97    115110\n",
      "           1       0.85      0.76      0.80    115110\n",
      "           2       0.67      0.05      0.10    115110\n",
      "           3       1.00      0.16      0.28    115110\n",
      "           4       0.35      0.99      0.52    115110\n",
      "\n",
      "   micro avg       0.59      0.59      0.59    575550\n",
      "   macro avg       0.77      0.59      0.53    575550\n",
      "weighted avg       0.77      0.59      0.53    575550\n",
      "\n"
     ]
    },
    {
     "data": {
      "image/png": "[encoded data removed]",
      "text/plain": [
       "<Figure size 432x288 with 2 Axes>"
      ]
     },
     "metadata": {},
     "output_type": "display_data"
    }
   ],
   "source": [
    "##第四组测试##\n",
    "forth_test = FeaturePreprocessing(forth_test)\n",
    "forth_test = DataBalance(forth_test)\n",
    "test_X = forth_test[['protocol_type', 'service', 'flag'] + Features_num] \n",
    "pred_test4_y = model.predict(test_X, num_iteration=model.best_iteration)\n",
    "modelCheck(pred_test4_y, forth_test)"
   ]
  },
  {
   "cell_type": "markdown",
   "metadata": {},
   "source": [
    "### 此处需要区分已知入侵和未知入侵？？？\n",
    "testLabeled_df"
   ]
  }
 ],
 "metadata": {
  "kernelspec": {
   "display_name": "Python 3",
   "language": "python",
   "name": "python3"
  },
  "language_info": {
   "codemirror_mode": {
    "name": "ipython",
    "version": 3
   },
   "file_extension": ".py",
   "mimetype": "text/x-python",
   "name": "python",
   "nbconvert_exporter": "python",
   "pygments_lexer": "ipython3",
   "version": "3.6.5"
  }
 },
 "nbformat": 4,
 "nbformat_minor": 2
}
