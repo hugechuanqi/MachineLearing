{
 "cells": [
  {
   "cell_type": "markdown",
   "metadata": {},
   "source": [
    "# 条件：此处针对多分类问题，即分类包括normal, U2R, R2L, Dos, PROBING\n",
    "    如果是二分类问题，分类应该包括正常、异常\n",
    "    或者另一种多分类问题就是，23种分类(完整数据集也是有23种分类)\n",
    "    \n",
    "    问题1：现在不明确分类中1，2，3，4对应哪一个入侵类型？\n",
    "    问题2：训练集中的23个类别标签已分类，那么测试集中38个分类标签该如何分类?"
   ]
  },
  {
   "cell_type": "markdown",
   "metadata": {},
   "source": [
    "## 加载数据和特征"
   ]
  },
  {
   "cell_type": "code",
   "execution_count": 29,
   "metadata": {},
   "outputs": [
    {
     "data": {
      "text/plain": [
       "14"
      ]
     },
     "execution_count": 29,
     "metadata": {},
     "output_type": "execute_result"
    }
   ],
   "source": [
    "len(set(Features))"
   ]
  },
  {
   "cell_type": "code",
   "execution_count": 1,
   "metadata": {},
   "outputs": [
    {
     "data": {
      "text/plain": [
       "(494021, 14)"
      ]
     },
     "execution_count": 1,
     "metadata": {},
     "output_type": "execute_result"
    }
   ],
   "source": [
    "import pandas as pd\n",
    "import os\n",
    "# os.listdir(\"datafile\")\n",
    "\n",
    "##相关特征##\n",
    "Features = ['duration', 'protocol_type', 'service', 'src_bytes', 'dst_bytes','urgent', 'count',\n",
    "                      'srv_count', 'same_srv_rate', 'dst_host_count', 'dst_host_srv_count', 'dst_host_same_srv_rate', \n",
    "                      'dst_host_same_src_port_rate', 'label']\n",
    "\n",
    "# Features=['duration','protocol_type','service','flag','src_bytes','dst_bytes','wrong_fragment',\n",
    "#           'hot','count','rerror_rate','srv_rerror_rate','srv_diff_host_rate','dst_hosts_count',\n",
    "#           'dst_host_srv_count','dst_host_same_srv_rate','dst_host_diff_srv_rate','dst_host_same_src_port_rate',\n",
    "#           'dst_host_srv_diff_host_rate','dst_host_serror_rate', 'dst_host_srv_serror_rate','label']\n",
    "\n",
    "# Features_continue = ['duration','src_bytes','dst_bytes','wrong_fragment',  'hot', 'count', 'rerror_rate',\n",
    "#                      'srv_rerror_rate', 'srv_diff_host_rate', 'dst_hosts_count','dst_host_srv_count',\n",
    "#                      'dst_host_same_srv_rate','dst_host_diff_srv_rate', 'dst_host_same_src_port_rate',\n",
    "#                      'dst_host_srv_diff_host_rate','dst_host_serror_rate', 'dst_host_srv_serror_rate']\n",
    "\n",
    "# Features_discrete = ['protocol_type', 'service', 'flag', 'label']\n",
    "\n",
    "Features_num = ['duration', 'src_bytes', 'dst_bytes','urgent', 'count',\n",
    "                  'srv_count', 'same_srv_rate', 'dst_host_count', 'dst_host_srv_count', 'dst_host_same_srv_rate', \n",
    "                  'dst_host_same_src_port_rate'] \n",
    "\n",
    "Features_NonNumerical = ['protocol_type', 'service','label']\n",
    "\n",
    "##相关类别标签##\n",
    "labels=['normal.', 'buffer_overflow.', 'loadmodule.', 'perl.', 'neptune.', 'smurf.', 'guess_passwd.', 'pod.', \n",
    "        'teardrop.', 'portsweep.', 'ipsweep.', 'land.', 'ftp_write.', 'back.', 'imap.', 'satan.', 'phf.',\n",
    "        'nmap.', 'multihop.', 'warezmaster.', 'warezclient.', 'spy.', 'rootkit.'] + ['snmpgetattack.', \n",
    "        'named.', 'xlock.', 'xsnoop.', 'sendmail.', 'saint.', 'apache2.', 'udpstorm.', \n",
    "         'xterm.', 'mscan.', 'processtable.', 'ps.', 'httptunnel.', 'worm.', 'mailbomb.', 'sqlattack.', 'snmpguess.']\n",
    "labels_Normal = ['normal.']\n",
    "labels_Dos = ['back.', 'land.', 'neptune.', 'pod.', 'smurf.', 'teardrop.'] + ['apache2.', 'mailbomb.', 'processtable.', 'udpstorm.']\n",
    "labels_Probing = ['ipsweep.', 'nmap.', 'portsweep.', 'satan.'] + ['mscan.', 'saint.']\n",
    "labels_R2L = ['ftp_write.', 'guess_passwd.', 'imap.', 'multihop.', 'phf.', 'spy.', 'warezclient.', 'warezmaster.'] + ['snmpgetattack.',\n",
    "                'named.', 'sendmail.', 'snmpgeattack.', 'snmpguess.', 'worm.', 'xlock.', 'xsnoop.']\n",
    "labels_U2R = ['buffer_overflow.', 'loadmodule.', 'perl.', 'rootkit.'] + ['httptunnel.', 'ps.', 'sqlattack.', 'xterm.']\n",
    "\n",
    "kdd_df = pd.read_csv(\"./datafile/kddcup.data_10_percent_corrected\", names=Features)\n",
    "# kddTotal_df = pd.read_csv(\"./datafile/kddcup.data.corrected\", names=Features)\n",
    "kdd_df.shape"
   ]
  },
  {
   "cell_type": "code",
   "execution_count": 2,
   "metadata": {},
   "outputs": [],
   "source": [
    "kdd_df = kdd_df[kdd_df.duplicated()==False].reset_index()"
   ]
  },
  {
   "cell_type": "code",
   "execution_count": 3,
   "metadata": {},
   "outputs": [],
   "source": [
    "def labelCount(df):\n",
    "    ##各类别标签统计函数，输出类别总数##\n",
    "    labels=['normal.', 'buffer_overflow.', 'loadmodule.', 'perl.', 'neptune.', 'smurf.', 'guess_passwd.', 'pod.', \n",
    "        'teardrop.', 'portsweep.', 'ipsweep.', 'land.', 'ftp_write.', 'back.', 'imap.', 'satan.', 'phf.',\n",
    "        'nmap.', 'multihop.', 'warezmaster.', 'warezclient.', 'spy.', 'rootkit.'] + ['snmpgetattack.', \n",
    "        'named.', 'xlock.', 'xsnoop.', 'sendmail.', 'saint.', 'apache2.', 'udpstorm.', \n",
    "         'xterm.', 'mscan.', 'processtable.', 'ps.', 'httptunnel.', 'worm.', 'mailbomb.', 'sqlattack.', 'snmpguess.']\n",
    "    labels_Normal = ['normal.']\n",
    "    labels_Dos = ['back.', 'land.', 'neptune.', 'pod.', 'smurf.', 'teardrop.'] + ['apache2.', 'mailbomb.', 'processtable.', 'udpstorm.']\n",
    "    labels_Probing = ['ipsweep.', 'nmap.', 'portsweep.', 'satan.'] + ['mscan.', 'saint.']\n",
    "    labels_R2L = ['ftp_write.', 'guess_passwd.', 'imap.', 'multihop.', 'phf.', 'spy.', 'warezclient.', 'warezmaster.'] + ['snmpgetattack.',\n",
    "                    'named.', 'sendmail.', 'snmpgeattack.', 'snmpguess.', 'worm.', 'xlock.', 'xsnoop.']\n",
    "    labels_U2R = ['buffer_overflow.', 'loadmodule.', 'perl.', 'rootkit.'] + ['httptunnel.', 'ps.', 'sqlattack.', 'xterm.']\n",
    "\n",
    "    total = df['label'].count()\n",
    "    totalNormal = df.loc[df['label']=='normal.', 'label'].count()\n",
    "    totalDos = df.loc[df['label'].isin(labels_Dos), 'label'].count()\n",
    "    totalProb = df.loc[df['label'].isin(labels_Probing), 'label'].count()\n",
    "    totalR2L = df.loc[df['label'].isin(labels_R2L), 'label'].count()\n",
    "    totalU2R = df.loc[df['label'].isin(labels_U2R), 'label'].count()\n",
    "\n",
    "    print(\"该数据集总数为：\", total, \"，其中\")\n",
    "    print(\"  normal类型总数为：\", totalNormal)\n",
    "    print(\"  Dos类型总数为：\", totalDos)\n",
    "    print(\"  Probing类型总数为：\", totalProb)\n",
    "    print(\"  R2L类型总数为：\", totalR2L)\n",
    "    print(\"  U2R类型总数为：\", totalU2R)\n",
    "    print(df['label'].unique(), df['label'].nunique())"
   ]
  },
  {
   "cell_type": "code",
   "execution_count": 4,
   "metadata": {},
   "outputs": [
    {
     "name": "stdout",
     "output_type": "stream",
     "text": [
      "该数据集总数为： 57178 ，其中\n",
      "  normal类型总数为： 43956\n",
      "  Dos类型总数为： 10952\n",
      "  Probing类型总数为： 1287\n",
      "  R2L类型总数为： 944\n",
      "  U2R类型总数为： 39\n",
      "['normal.' 'buffer_overflow.' 'loadmodule.' 'perl.' 'neptune.' 'smurf.'\n",
      " 'guess_passwd.' 'pod.' 'teardrop.' 'portsweep.' 'ipsweep.' 'land.'\n",
      " 'ftp_write.' 'back.' 'imap.' 'satan.' 'phf.' 'nmap.' 'multihop.'\n",
      " 'warezmaster.' 'warezclient.' 'spy.' 'rootkit.'] 23\n"
     ]
    }
   ],
   "source": [
    "labelCount(kdd_df)"
   ]
  },
  {
   "cell_type": "code",
   "execution_count": 5,
   "metadata": {},
   "outputs": [],
   "source": [
    "##划分训练集和测试集##\n",
    "from sklearn.model_selection import train_test_split\n",
    "dev_df, val_df = train_test_split(kdd_df, test_size=0.1,random_state=1)   #随机分配测试集\n",
    "num1 = dev_df.shape[0]\n",
    "num2 = dev_df.shape[0]\n",
    "kdd_df = pd.concat([dev_df, val_df], axis=0)"
   ]
  },
  {
   "cell_type": "markdown",
   "metadata": {},
   "source": [
    "## 特征工程和数据预处理"
   ]
  },
  {
   "cell_type": "code",
   "execution_count": 6,
   "metadata": {},
   "outputs": [
    {
     "name": "stdout",
     "output_type": "stream",
     "text": [
      "该数据集总数为： 51460 ，其中\n",
      "  normal类型总数为： 39552\n",
      "  Dos类型总数为： 9884\n",
      "  Probing类型总数为： 1158\n",
      "  R2L类型总数为： 835\n",
      "  U2R类型总数为： 31\n",
      "['normal.' 'teardrop.' 'neptune.' 'warezclient.' 'back.' 'smurf.' 'satan.'\n",
      " 'imap.' 'portsweep.' 'ipsweep.' 'nmap.' 'pod.' 'buffer_overflow.' 'phf.'\n",
      " 'warezmaster.' 'guess_passwd.' 'multihop.' 'ftp_write.' 'land.'\n",
      " 'loadmodule.' 'rootkit.' 'perl.' 'spy.'] 23\n"
     ]
    }
   ],
   "source": [
    "labelCount(dev_df)"
   ]
  },
  {
   "cell_type": "code",
   "execution_count": 7,
   "metadata": {},
   "outputs": [
    {
     "name": "stdout",
     "output_type": "stream",
     "text": [
      "该数据集总数为： 5718 ，其中\n",
      "  normal类型总数为： 4404\n",
      "  Dos类型总数为： 1068\n",
      "  Probing类型总数为： 129\n",
      "  R2L类型总数为： 109\n",
      "  U2R类型总数为： 8\n",
      "['normal.' 'neptune.' 'portsweep.' 'back.' 'smurf.' 'teardrop.'\n",
      " 'warezclient.' 'ipsweep.' 'satan.' 'nmap.' 'pod.' 'guess_passwd.'\n",
      " 'warezmaster.' 'rootkit.' 'loadmodule.' 'buffer_overflow.' 'land.'] 17\n"
     ]
    }
   ],
   "source": [
    "labelCount(val_df)"
   ]
  },
  {
   "cell_type": "code",
   "execution_count": 8,
   "metadata": {},
   "outputs": [
    {
     "name": "stdout",
     "output_type": "stream",
     "text": [
      "protocol_type\n",
      "service\n",
      "label\n"
     ]
    }
   ],
   "source": [
    "from sklearn import preprocessing\n",
    "\n",
    "def FeaturePreprocessing(df):\n",
    "    ##特征预处理函数，input:DataFrame， output:DataFrame##\n",
    "    labels=['normal.', 'buffer_overflow.', 'loadmodule.', 'perl.', 'neptune.', 'smurf.', 'guess_passwd.', 'pod.', \n",
    "        'teardrop.', 'portsweep.', 'ipsweep.', 'land.', 'ftp_write.', 'back.', 'imap.', 'satan.', 'phf.',\n",
    "        'nmap.', 'multihop.', 'warezmaster.', 'warezclient.', 'spy.', 'rootkit.'] + ['snmpgetattack.', \n",
    "        'named.', 'xlock.', 'xsnoop.', 'sendmail.', 'saint.', 'apache2.', 'udpstorm.', \n",
    "         'xterm.', 'mscan.', 'processtable.', 'ps.', 'httptunnel.', 'worm.', 'mailbomb.', 'sqlattack.', 'snmpguess.']\n",
    "    labels_Normal = ['normal.']\n",
    "    labels_Dos = ['back.', 'land.', 'neptune.', 'pod.', 'smurf.', 'teardrop.'] + ['apache2.', 'mailbomb.', 'processtable.', 'udpstorm.']\n",
    "    labels_Probing = ['ipsweep.', 'nmap.', 'portsweep.', 'satan.'] + ['mscan.', 'saint.']\n",
    "    labels_R2L = ['ftp_write.', 'guess_passwd.', 'imap.', 'multihop.', 'phf.', 'spy.', 'warezclient.', 'warezmaster.'] + ['snmpgetattack.',\n",
    "                    'named.', 'sendmail.', 'snmpgeattack.', 'snmpguess.', 'worm.', 'xlock.', 'xsnoop.']\n",
    "    labels_U2R = ['buffer_overflow.', 'loadmodule.', 'perl.', 'rootkit.'] + ['httptunnel.', 'ps.', 'sqlattack.', 'xterm.']\n",
    "\n",
    "    df.loc[df['label']=='normal.', 'label'] = 'normal'\n",
    "    df.loc[df['label'].isin(labels_Dos), 'label'] = 'Dos'\n",
    "    df.loc[df['label'].isin(labels_Probing), 'label'] = 'Probing'\n",
    "    df.loc[df['label'].isin(labels_R2L), 'label'] = 'R2L'\n",
    "    df.loc[df['label'].isin(labels_U2R), 'label'] = 'U2R'\n",
    "    \n",
    "    # 编码分类变量，并将数值变量转换为浮点数\n",
    "    ##此处每将labels进行分类，因此编码时按照23种类别进行分类，而不是5种类别##\n",
    "    Features_NonNumerical = ['protocol_type', 'service', 'label']\n",
    "    for col in Features_NonNumerical:\n",
    "        print(col)\n",
    "        lbl = preprocessing.LabelEncoder()\n",
    "        lbl.fit(list(df.loc[:,col].values.astype('str')))\n",
    "        df.loc[:,col] = lbl.transform(list(df.loc[:,col].values.astype('str')))\n",
    "        \n",
    "    Features_num = ['duration', 'src_bytes', 'dst_bytes','urgent', 'count',\n",
    "                  'srv_count', 'same_srv_rate', 'dst_host_count', 'dst_host_srv_count', 'dst_host_same_srv_rate', \n",
    "                  'dst_host_same_src_port_rate'] \n",
    "    for col in Features_num:\n",
    "        df.loc[:,col] = df.loc[:,col].astype(float)\n",
    "        \n",
    "    return df\n",
    "\n",
    "# # Split the train dataset into development and valid based on time 分割数据集，进而基于时间进行开发和验证\n",
    "# dev_df = train_df[train_df['date']<=datetime.date(2017,5,31)]\n",
    "# val_df = train_df[train_df['date']>datetime.date(2017,5,31)]\n",
    "# dev_y = np.log1p(dev_df[\"totals.transactionRevenue\"].values)\n",
    "# val_y = np.log1p(val_df[\"totals.transactionRevenue\"].values)\n",
    "\n",
    "# dev_X = dev_df[cat_cols + num_cols] \n",
    "# val_X = val_df[cat_cols + num_cols] \n",
    "# test_X = test_df[cat_cols + num_cols] \n",
    "\n",
    "kdd_df = FeaturePreprocessing(kdd_df)"
   ]
  },
  {
   "cell_type": "markdown",
   "metadata": {},
   "source": [
    "## 模型建立与检验\n",
    "    在lgb.cv()中，得到的是概率，但这是N个n*1的ndarray，此时转化方法如下：\n",
    "    #概率转化为类别，num_class 为类别的种类\n",
    "        pre = np.argmax(pre.reshape(num_class, -1),axis=0)"
   ]
  },
  {
   "cell_type": "code",
   "execution_count": 9,
   "metadata": {},
   "outputs": [],
   "source": [
    "import numpy as np\n",
    "# dev_df = kdd_df.iloc[0:400000,:]\n",
    "# val_df = kdd_df.iloc[400000:494021,:]\n",
    "\n",
    "dev_df = kdd_df.iloc[0:num1,:]\n",
    "val_df = kdd_df.iloc[num1:num1+num2,:]\n",
    "\n",
    "# dev_y = np.log1p(dev_df[\"label\"].values)\n",
    "# val_y = np.log1p(val_df[\"label\"].values)\n",
    "dev_y = dev_df[\"label\"].values\n",
    "val_y = val_df[\"label\"].values\n",
    "\n",
    "dev_X = dev_df[['protocol_type', 'service'] + Features_num] \n",
    "val_X = val_df[['protocol_type', 'service'] + Features_num] \n",
    "\n",
    "# test_X = kddTotal_df[['protocol_type', 'service', 'flag'] + Features_num] "
   ]
  },
  {
   "cell_type": "code",
   "execution_count": 10,
   "metadata": {},
   "outputs": [
    {
     "name": "stdout",
     "output_type": "stream",
     "text": [
      "Training until validation scores don't improve for 100 rounds.\n",
      "[100]\tvalid_0's multi_logloss: 0.0520005\n",
      "[200]\tvalid_0's multi_logloss: 0.0384208\n",
      "[300]\tvalid_0's multi_logloss: 0.0352389\n",
      "[400]\tvalid_0's multi_logloss: 0.0349494\n",
      "Early stopping, best iteration is:\n",
      "[394]\tvalid_0's multi_logloss: 0.0348517\n"
     ]
    }
   ],
   "source": [
    "import lightgbm as lgb\n",
    "# custom function to run light gbm model 自定义一个运行gbm模型的函数\n",
    "def run_lgb(train_X, train_y, val_X, val_y):\n",
    "    params = {\n",
    "#         'task': 'train',\n",
    "#         'boosting_type': 'gbdt',\n",
    "#         'objective': 'binary',\n",
    "#         'metric': {'l2', 'auc'},\n",
    "#         'num_leaves': 31,\n",
    "#         'learning_rate': 0.05,\n",
    "#         'feature_fraction': 0.9,\n",
    "#         'bagging_fraction': 0.8,\n",
    "#         'bagging_freq': 5,\n",
    "#         'verbose': 0\n",
    "        \"objective\" : \"multiclass\",\n",
    "        \"num_class\" : 5,\n",
    "        \"learning_rate\":0.1,\n",
    "        \"lambda_l1\":0.1,\n",
    "        \"lambda_l2\":0.2,\n",
    "        \"max_depth\":4,\n",
    "    }\n",
    "\n",
    "    lgtrain = lgb.Dataset(train_X, label=train_y)\n",
    "    lgval = lgb.Dataset(val_X, label=val_y)\n",
    "    model = lgb.train(params, lgtrain, 1000, valid_sets=[lgval], early_stopping_rounds=100, verbose_eval=100)\n",
    "    \n",
    "#     pred_test_y = model.predict(test_X, num_iteration=model.best_iteration)\n",
    "    pred_val_y = model.predict(val_X, num_iteration=model.best_iteration)\n",
    "    return model, pred_val_y\n",
    "\n",
    "# Training the model #\n",
    "# pred_test, model, pred_val = run_lgb(dev_X, dev_y, val_X, val_y, test_X)\n",
    "model, pred_val = run_lgb(dev_X, dev_y, val_X, val_y)"
   ]
  },
  {
   "cell_type": "markdown",
   "metadata": {},
   "source": [
    "### 实验分组和测评方式\n",
    "    1、四组（每组包括已知入侵和未知入侵）————因此进行训练时可以分为19个已知入侵，3个未知入侵\n",
    "    2、同一组内不同类别标签的识别率；不同组间的相同类别标签的识别率；\n",
    "    3、性能比较：此模型方法和其他模型方法之间的性能比较（检测率和误报率————统计检测率的均值方差和误报率的均值方差）\n",
    "    4、不同方法之间检测时，要严格控制测试数据集一致。\n",
    "    3、测评方式：一般是检测率和误报率"
   ]
  },
  {
   "cell_type": "markdown",
   "metadata": {},
   "source": [
    "## 模型检验与评估\n",
    "以下为10%数据集的检验和特征重要性分析\n",
    "\n",
    "## 机器学习多分类评估方法\n",
    "    宏平均、微平均\n",
    "    更注重样本量多的class，使用宏平均；更注重样本量少的class，使用微平均"
   ]
  },
  {
   "cell_type": "code",
   "execution_count": 11,
   "metadata": {
    "scrolled": true
   },
   "outputs": [
    {
     "name": "stdout",
     "output_type": "stream",
     "text": [
      "[[1045    0    1    2   20]\n",
      " [   2  122    3    0    2]\n",
      " [   1    1  104    0    3]\n",
      " [   3    0    1    2    2]\n",
      " [  25    2    6    0 4371]]\n",
      "总体识别率为： 0.987058412032179\n",
      "normal识别率为 0.9784644194756554\n",
      "Dos识别率 0.9457364341085271\n",
      "Probing识别率 0.9541284403669725\n",
      "R2L识别率 0.9925068119891008\n",
      "U2R识别率 0.25\n"
     ]
    },
    {
     "data": {
      "text/plain": [
       "<Figure size 480x480 with 1 Axes>"
      ]
     },
     "metadata": {},
     "output_type": "display_data"
    },
    {
     "name": "stdout",
     "output_type": "stream",
     "text": [
      "             precision    recall  f1-score   support\n",
      "\n",
      "          0       0.97      0.98      0.97      1068\n",
      "          1       0.98      0.95      0.96       129\n",
      "          2       0.90      0.95      0.93       109\n",
      "          3       0.50      0.25      0.33         8\n",
      "          4       0.99      0.99      0.99      4404\n",
      "\n",
      "avg / total       0.99      0.99      0.99      5718\n",
      "\n"
     ]
    }
   ],
   "source": [
    "import numpy as np\n",
    "from sklearn.metrics import confusion_matrix\n",
    "import matplotlib.pyplot as plt\n",
    "import seaborn as sns\n",
    "from sklearn.metrics import classification_report\n",
    "\n",
    "def modelCheck(pred_val, df):\n",
    "    ##模型检验函数，input:模型预测分类和实际分类，output：混淆矩阵（图），分类报告##\n",
    "    prediction_val=[]\n",
    "    for x in pred_val:\n",
    "        prediction_val.append(np.argmax(x))\n",
    "\n",
    "    cm = confusion_matrix(df['label'], prediction_val)   #Ci,j表示实际类别为i但是预测为类别j的观测数量\n",
    "    # tn, fp, fn, tp = np.ravel(cm)   #此处结果只针对二分类问题\n",
    "    print(cm)\n",
    "    \n",
    "    ##检测率：指测试集中攻击样本被正确识别为攻击的比例\n",
    "    ##精确率：指测试集中所有被IDS识别为攻击样本中，真正为攻击样本的比值；\n",
    "    ##混淆矩阵中，横向为预测的分类标签，纵向为实际的分类标签\n",
    "    detection_Rate = (cm[0,0]+cm[1,1]+cm[2,2]+cm[3,3]+cm[4,4])/(cm.sum())\n",
    "    detectionNormal_Rate = cm[0,0] / cm[:,0].sum()    # normal检测率\n",
    "    detectionDos_Rate = cm[1,1] / cm[:,1].sum()   # Dos检测率\n",
    "    detectionProbing_Rate = cm[2,2] / cm[:,2].sum()   # Probing检测率\n",
    "    detectionU2R_Rate = cm[3,3] / cm[:,3].sum()   # U2R检测率\n",
    "    detectionR2L_Rate = cm[4,4] / cm[:,4].sum()   # R2L检测率\n",
    "    \n",
    "    print(\"总体识别率为：\", detection_Rate)\n",
    "    print(\"normal识别率为\", detectionNormal_Rate)\n",
    "    print(\"Dos识别率\", detectionDos_Rate)    \n",
    "    print(\"Probing识别率\", detectionProbing_Rate)\n",
    "    print(\"R2L识别率\", detectionR2L_Rate)\n",
    "    print(\"U2R识别率\", detectionU2R_Rate)\n",
    "\n",
    "    # detection_Rate = tp / (tp + fn)    #检测率：99.76%\n",
    "    # falseAlarm_Rate = fp / (fp + tn)   #误报率：0.1996%\n",
    "    # print(\"检测率为：\", detection_Rate)\n",
    "    # print(\"误报率为：\", falseAlarm_Rate)\n",
    "    \n",
    "    # 可视化矩阵图\n",
    "    plt.matshow(cm,cmap=plt.cm.Greens)\n",
    "    plt.show()\n",
    "    \n",
    "    ##多分类评估热点图##\n",
    "    cm_df = pd.DataFrame(cm)\n",
    "    sns.heatmap(cm_df, annot=True)\n",
    "\n",
    "    ##查看多分类的评估报告##\n",
    "    print(classification_report(df['label'], prediction_val))   #精确率和召回率，f1-score，支持数support\n",
    "    \n",
    "modelCheck(pred_val, val_df)"
   ]
  },
  {
   "cell_type": "code",
   "execution_count": 12,
   "metadata": {},
   "outputs": [
    {
     "data": {
      "image/png": "[encoded data removed]",
      "text/plain": [
       "<Figure size 864x1296 with 1 Axes>"
      ]
     },
     "metadata": {},
     "output_type": "display_data"
    }
   ],
   "source": [
    "import matplotlib.pyplot as plt\n",
    "fig, ax = plt.subplots(figsize=(12,18))\n",
    "lgb.plot_importance(model, max_num_features=50, height=0.8, ax=ax)\n",
    "ax.grid(False)\n",
    "plt.title(\"LightGBM - Feature Importance\", fontsize=15)\n",
    "plt.show()"
   ]
  },
  {
   "cell_type": "markdown",
   "metadata": {},
   "source": [
    "### 以下为完整数据集（4898431行数据，42列特征）的验证和检测率分析"
   ]
  },
  {
   "cell_type": "code",
   "execution_count": 14,
   "metadata": {},
   "outputs": [],
   "source": [
    "Features=['duration','protocol_type','service','flag','src_bytes','dst_bytes','land','wrong_fragment','urgent',\n",
    "         'hot','num_failed_logins','logged_in','num_compromised','root_shell','su_attempted','num_root',\n",
    "          'num_file_creations','num_shells','num_access_files','num_outbound_cmds','is_hot_login','is_guest_login',\n",
    "         'count','srv_count','serror_rate','srv_serror_rate','rerror_rate','srv_rerror_rate','same_srv_rate',\n",
    "          'diff_srv_rate','srv_diff_host_rate',\n",
    "         'dst_hosts_count','dst_host_srv_count','dst_host_same_srv_rate','dst_host_diff_srv_rate',\n",
    "          'dst_host_same_src_port_rate','dst_host_srv_diff_host_rate','dst_host_serror_rate',\n",
    "          'dst_host_srv_serror_rate','dst_host_rerror_rate','st_host_srv_rerror_rate', \n",
    "         'label']kddTotal_df = pd.read_csv(\"./datafile/kddcup.data.corrected\", names=Features)\n"
   ]
  },
  {
   "cell_type": "code",
   "execution_count": 15,
   "metadata": {},
   "outputs": [
    {
     "data": {
      "text/plain": [
       "(4898431, 42)"
      ]
     },
     "execution_count": 15,
     "metadata": {},
     "output_type": "execute_result"
    }
   ],
   "source": [
    "kddTotal_df.shape"
   ]
  },
  {
   "cell_type": "code",
   "execution_count": 16,
   "metadata": {},
   "outputs": [
    {
     "name": "stdout",
     "output_type": "stream",
     "text": [
      "protocol_type\n",
      "service\n",
      "flag\n",
      "label\n"
     ]
    }
   ],
   "source": [
    "kddTotal_df = FeaturePreprocessing(kddTotal_df)"
   ]
  },
  {
   "cell_type": "code",
   "execution_count": 18,
   "metadata": {},
   "outputs": [],
   "source": [
    "test_X = kddTotal_df[['protocol_type', 'service', 'flag'] + Features_num] \n",
    "pred_test_y = model.predict(test_X, num_iteration=model.best_iteration)\n"
   ]
  },
  {
   "cell_type": "code",
   "execution_count": 19,
   "metadata": {},
   "outputs": [
    {
     "name": "stdout",
     "output_type": "stream",
     "text": [
      "[[3883358       1       1       0      10]\n",
      " [      4   40934       7       1     156]\n",
      " [      0       0    1121       0       5]\n",
      " [      0       0       2      42       8]\n",
      " [     48      52     105      32  972544]]\n",
      "总体识别率为： 0.9999118084954142\n",
      "normal识别率为 0.9999969099004216\n",
      "Dos识别率 0.9959126076589947\n",
      "Probing识别率 0.9955595026642984\n",
      "R2L识别率 0.9997563685968374\n",
      "U2R识别率 0.8076923076923077\n"
     ]
    },
    {
     "data": {
      "image/png": "[encoded data removed]",
      "text/plain": [
       "<Figure size 288x288 with 1 Axes>"
      ]
     },
     "metadata": {},
     "output_type": "display_data"
    },
    {
     "name": "stdout",
     "output_type": "stream",
     "text": [
      "             precision    recall  f1-score   support\n",
      "\n",
      "          0       1.00      1.00      1.00   3883370\n",
      "          1       1.00      1.00      1.00     41102\n",
      "          2       0.91      1.00      0.95      1126\n",
      "          3       0.56      0.81      0.66        52\n",
      "          4       1.00      1.00      1.00    972781\n",
      "\n",
      "avg / total       1.00      1.00      1.00   4898431\n",
      "\n"
     ]
    },
    {
     "data": {
      "image/png": "[encoded data removed]",
      "text/plain": [
       "<Figure size 432x288 with 2 Axes>"
      ]
     },
     "metadata": {},
     "output_type": "display_data"
    }
   ],
   "source": [
    "modelCheck(pred_test_y, kddTotal_df)"
   ]
  },
  {
   "cell_type": "markdown",
   "metadata": {},
   "source": [
    "## 测试集分为四组\n",
    "    1、来自训练集：28000正常+2000异常；\n",
    "    2、来自训练集：28000正常+2000异常；\n",
    "    3、除去训练集之后的部分：28000正常+2000异常;\n",
    "    4、除去训练集之后的部分：28000正常+2000异常;\n",
    "    5、训练集中有23种标签，其中有两种['spy.', 'warezclient.']没有出现在测试集中；\n",
    "    6、测试集中有38种标签，有21种（包括normal）与训练集一样，有17种是未知入侵；"
   ]
  },
  {
   "cell_type": "code",
   "execution_count": 13,
   "metadata": {},
   "outputs": [
    {
     "name": "stderr",
     "output_type": "stream",
     "text": [
      "/home/huge/anaconda3/lib/python3.6/site-packages/sklearn/cross_validation.py:41: DeprecationWarning: This module was deprecated in version 0.18 in favor of the model_selection module into which all the refactored classes and functions are moved. Also note that the interface of the new CV iterators are different from that of this module. This module will be removed in 0.20.\n",
      "  \"This module will be removed in 0.20.\", DeprecationWarning)\n"
     ]
    }
   ],
   "source": [
    "##加载含标签测试数据##\n",
    "import pandas as pd\n",
    "Features = ['duration', 'protocol_type', 'service', 'src_bytes', 'dst_bytes','urgent', 'count',\n",
    "                      'srv_count', 'same_srv_rate', 'dst_host_count', 'dst_host_srv_count', 'dst_host_same_srv_rate', \n",
    "                      'dst_host_same_src_port_rate', 'label']\n",
    "\n",
    "testFromTrain_df = pd.read_csv(\"./datafile/kddcup.data_10_percent_corrected\", names=Features)\n",
    "testLabeled_df = pd.read_csv(\"./datafile/corrected\", names=Features)\n",
    "\n",
    "##划分测试集##\n",
    "from sklearn.cross_validation import train_test_split\n",
    "first_test, second_test = train_test_split(testFromTrain_df, test_size=0.5, random_state=1)   #从训练集中随机分配测试集\n",
    "third_test, forth_test = train_test_split(testLabeled_df, test_size=0.5, random_state=1)   #从测试集中随机分配测试集\n",
    "\n",
    "# ##区分已知入侵和未知入侵##\n",
    "# labels=['normal.', 'buffer_overflow.', 'loadmodule.', 'perl.', 'neptune.', 'smurf.', 'guess_passwd.', 'pod.', \n",
    "#         'teardrop.', 'portsweep.', 'ipsweep.', 'land.', 'ftp_write.', 'back.', 'imap.', 'satan.', 'phf.',\n",
    "#         'nmap.', 'multihop.', 'warezmaster.', 'warezclient.', 'spy.', 'rootkit.']\n",
    "# testKonwIntrusion_df = testLabeled_df.loc[testLabeled_df['label'].isin(labels), :]\n",
    "# testUnkonwIntrusion_df = testLabeled_df.loc[~testLabeled_df['label'].isin(labels), :]"
   ]
  },
  {
   "cell_type": "code",
   "execution_count": 14,
   "metadata": {},
   "outputs": [
    {
     "name": "stdout",
     "output_type": "stream",
     "text": [
      "20\n",
      "85\n"
     ]
    }
   ],
   "source": [
    "labels=['normal.', 'buffer_overflow.', 'loadmodule.', 'perl.', 'neptune.', 'smurf.', 'guess_passwd.', 'pod.', \n",
    "        'teardrop.', 'portsweep.', 'ipsweep.', 'land.', 'ftp_write.', 'back.', 'imap.', 'satan.', 'phf.',\n",
    "        'nmap.', 'multihop.', 'warezmaster.', 'warezclient.', 'spy.', 'rootkit.'] + ['snmpgetattack.', \n",
    "        'named.', 'xlock.', 'xsnoop.', 'sendmail.', 'saint.', 'apache2.', 'udpstorm.', \n",
    "         'xterm.', 'mscan.', 'processtable.', 'ps.', 'httptunnel.', 'worm.', 'mailbomb.', 'sqlattack.', 'snmpguess.']\n",
    "labels_Normal = ['normal.']\n",
    "labels_Dos = ['back.', 'land.', 'neptune.', 'pod.', 'smurf.', 'teardrop.'] + ['apache2.', 'mailbomb.', 'processtable.', 'udpstorm.']\n",
    "labels_Probing = ['ipsweep.', 'nmap.', 'portsweep.', 'satan.'] + ['mscan.', 'saint.']\n",
    "labels_R2L = ['ftp_write.', 'guess_passwd.', 'imap.', 'multihop.', 'phf.', 'spy.', 'warezclient.', 'warezmaster.'] + ['snmpgetattack.',\n",
    "                'named.', 'sendmail.', 'snmpgeattack.', 'snmpguess.', 'worm.', 'xlock.', 'xsnoop.']\n",
    "labels_U2R = ['buffer_overflow.', 'loadmodule.', 'perl.', 'rootkit.'] + ['httptunnel.', 'ps.', 'sqlattack.', 'xterm.']\n",
    "\n",
    "\n",
    "labels_Probing1 = ['ipsweep.', 'nmap.', 'portsweep.', 'satan.']\n",
    "labels_Probing2 = ['mscan.', 'saint.']\n",
    "labels_U2R1 = ['buffer_overflow.', 'loadmodule.', 'perl.', 'rootkit.']\n",
    "labels_U2R2 = ['httptunnel.', 'ps.', 'sqlattack.', 'xterm.']\n",
    "\n",
    "print(forth_test.loc[forth_test['label'].isin(labels_U2R1), 'label'].count())\n",
    "print(forth_test.loc[forth_test['label'].isin(labels_U2R2), 'label'].count())"
   ]
  },
  {
   "cell_type": "code",
   "execution_count": 15,
   "metadata": {},
   "outputs": [
    {
     "name": "stdout",
     "output_type": "stream",
     "text": [
      "该数据集总数为： 247010 ，其中\n",
      "  normal类型总数为： 48704\n",
      "  Dos类型总数为： 195642\n",
      "  Probing类型总数为： 2080\n",
      "  R2L类型总数为： 553\n",
      "  U2R类型总数为： 31\n",
      "['neptune.' 'smurf.' 'normal.' 'ipsweep.' 'warezmaster.' 'teardrop.'\n",
      " 'satan.' 'back.' 'warezclient.' 'nmap.' 'portsweep.' 'pod.' 'perl.'\n",
      " 'guess_passwd.' 'land.' 'buffer_overflow.' 'imap.' 'phf.' 'multihop.'\n",
      " 'rootkit.' 'loadmodule.' 'ftp_write.' 'spy.'] 23\n",
      "None\n",
      "该数据集总数为： 247011 ，其中\n",
      "  normal类型总数为： 48574\n",
      "  Dos类型总数为： 195816\n",
      "  Probing类型总数为： 2027\n",
      "  R2L类型总数为： 573\n",
      "  U2R类型总数为： 21\n",
      "['smurf.' 'neptune.' 'normal.' 'ipsweep.' 'satan.' 'nmap.' 'back.'\n",
      " 'warezclient.' 'teardrop.' 'portsweep.' 'pod.' 'guess_passwd.' 'imap.'\n",
      " 'loadmodule.' 'ftp_write.' 'land.' 'rootkit.' 'warezmaster.'\n",
      " 'buffer_overflow.' 'perl.' 'multihop.' 'phf.' 'spy.'] 23\n",
      "None\n",
      "该数据集总数为： 155514 ，其中\n",
      "  normal类型总数为： 30490\n",
      "  Dos类型总数为： 114743\n",
      "  Probing类型总数为： 2054\n",
      "  R2L类型总数为： 8104\n",
      "  U2R类型总数为： 123\n",
      "['neptune.' 'normal.' 'smurf.' 'snmpgetattack.' 'satan.' 'mailbomb.'\n",
      " 'guess_passwd.' 'snmpguess.' 'back.' 'processtable.' 'mscan.' 'nmap.'\n",
      " 'warezmaster.' 'apache2.' 'httptunnel.' 'saint.' 'portsweep.' 'ps.'\n",
      " 'ipsweep.' 'pod.' 'multihop.' 'sqlattack.' 'buffer_overflow.' 'named.'\n",
      " 'land.' 'sendmail.' 'xsnoop.' 'xlock.' 'xterm.' 'worm.' 'imap.'\n",
      " 'teardrop.' 'perl.' 'rootkit.' 'phf.' 'loadmodule.' 'ftp_write.'] 37\n",
      "None\n",
      "该数据集总数为： 155515 ，其中\n",
      "  normal类型总数为： 30103\n",
      "  Dos类型总数为： 115110\n",
      "  Probing类型总数为： 2112\n",
      "  R2L类型总数为： 8085\n",
      "  U2R类型总数为： 105\n",
      "['smurf.' 'rootkit.' 'neptune.' 'saint.' 'normal.' 'mailbomb.'\n",
      " 'guess_passwd.' 'snmpgetattack.' 'mscan.' 'apache2.' 'warezmaster.'\n",
      " 'satan.' 'snmpguess.' 'multihop.' 'back.' 'portsweep.' 'processtable.'\n",
      " 'nmap.' 'httptunnel.' 'ipsweep.' 'pod.' 'perl.' 'buffer_overflow.'\n",
      " 'sendmail.' 'ftp_write.' 'teardrop.' 'named.' 'xterm.' 'land.'\n",
      " 'udpstorm.' 'ps.' 'xlock.' 'sqlattack.' 'xsnoop.' 'loadmodule.' 'phf.'] 36\n",
      "None\n"
     ]
    }
   ],
   "source": [
    "print(labelCount(first_test))\n",
    "print(labelCount(second_test))\n",
    "print(labelCount(third_test))\n",
    "print(labelCount(forth_test))"
   ]
  },
  {
   "cell_type": "code",
   "execution_count": 16,
   "metadata": {},
   "outputs": [
    {
     "name": "stderr",
     "output_type": "stream",
     "text": [
      "/home/huge/anaconda3/lib/python3.6/site-packages/ipykernel/zmqshell.py:537: PerformanceWarning: indexing past lexsort depth may impact performance.\n",
      "  return super(ZMQInteractiveShell, self).run_cell(*args, **kwargs)\n",
      "/home/huge/anaconda3/lib/python3.6/site-packages/pandas/core/indexing.py:543: SettingWithCopyWarning: \n",
      "A value is trying to be set on a copy of a slice from a DataFrame.\n",
      "Try using .loc[row_indexer,col_indexer] = value instead\n",
      "\n",
      "See the caveats in the documentation: http://pandas.pydata.org/pandas-docs/stable/indexing.html#indexing-view-versus-copy\n",
      "  self.obj[item] = s\n"
     ]
    },
    {
     "name": "stdout",
     "output_type": "stream",
     "text": [
      "protocol_type\n",
      "service\n",
      "label\n",
      "[[195365      0      7      4    266]\n",
      " [    21   2045      6      0      8]\n",
      " [     0      0    537      0     16]\n",
      " [     2      0      8     18      3]\n",
      " [   137      1    101     13  48452]]\n",
      "总体识别率为： 0.9975992874782398\n",
      "normal识别率为 0.9985841485979493\n",
      "Dos识别率 0.9831730769230769\n",
      "Probing识别率 0.9710669077757685\n",
      "R2L识别率 0.9948258869908015\n",
      "U2R识别率 0.5806451612903226\n"
     ]
    },
    {
     "data": {
      "image/png": "[encoded data removed]",
      "text/plain": [
       "<Figure size 288x288 with 1 Axes>"
      ]
     },
     "metadata": {},
     "output_type": "display_data"
    },
    {
     "name": "stdout",
     "output_type": "stream",
     "text": [
      "             precision    recall  f1-score   support\n",
      "\n",
      "          0       1.00      1.00      1.00    195642\n",
      "          1       1.00      0.98      0.99      2080\n",
      "          2       0.81      0.97      0.89       553\n",
      "          3       0.51      0.58      0.55        31\n",
      "          4       0.99      0.99      0.99     48704\n",
      "\n",
      "avg / total       1.00      1.00      1.00    247010\n",
      "\n"
     ]
    },
    {
     "data": {
      "image/png": "[encoded data removed]",
      "text/plain": [
       "<Figure size 432x288 with 2 Axes>"
      ]
     },
     "metadata": {},
     "output_type": "display_data"
    }
   ],
   "source": [
    "##第一组测试##\n",
    "first_test = FeaturePreprocessing(first_test)\n",
    "test_X = first_test[['protocol_type', 'service'] + Features_num] \n",
    "pred_test1_y = model.predict(test_X, num_iteration=model.best_iteration)\n",
    "modelCheck(pred_test1_y, first_test)"
   ]
  },
  {
   "cell_type": "code",
   "execution_count": 25,
   "metadata": {},
   "outputs": [
    {
     "name": "stderr",
     "output_type": "stream",
     "text": [
      "/home/huge/anaconda3/lib/python3.6/site-packages/ipykernel/zmqshell.py:537: PerformanceWarning: indexing past lexsort depth may impact performance.\n",
      "  return super(ZMQInteractiveShell, self).run_cell(*args, **kwargs)\n",
      "/home/huge/anaconda3/lib/python3.6/site-packages/pandas/core/indexing.py:543: SettingWithCopyWarning: \n",
      "A value is trying to be set on a copy of a slice from a DataFrame.\n",
      "Try using .loc[row_indexer,col_indexer] = value instead\n",
      "\n",
      "See the caveats in the documentation: http://pandas.pydata.org/pandas-docs/stable/indexing.html#indexing-view-versus-copy\n",
      "  self.obj[item] = s\n"
     ]
    },
    {
     "name": "stdout",
     "output_type": "stream",
     "text": [
      "protocol_type\n",
      "service\n",
      "label\n",
      "[[195546      0      6      0    264]\n",
      " [    19   1991     10      0      7]\n",
      " [     1      1    560      1     10]\n",
      " [     4      0      5      9      3]\n",
      " [   151      1    107     17  48298]]\n",
      "总体识别率为： 0.9975426195594528\n",
      "normal识别率为 0.9986211545532541\n",
      "Dos识别率 0.9822397631968426\n",
      "Probing识别率 0.9773123909249564\n",
      "R2L识别率 0.9943179478733479\n",
      "U2R识别率 0.42857142857142855\n"
     ]
    },
    {
     "data": {
      "image/png": "[encoded data removed]",
      "text/plain": [
       "<Figure size 288x288 with 1 Axes>"
      ]
     },
     "metadata": {},
     "output_type": "display_data"
    },
    {
     "name": "stdout",
     "output_type": "stream",
     "text": [
      "             precision    recall  f1-score   support\n",
      "\n",
      "          0       1.00      1.00      1.00    195816\n",
      "          1       1.00      0.98      0.99      2027\n",
      "          2       0.81      0.98      0.89       573\n",
      "          3       0.33      0.43      0.38        21\n",
      "          4       0.99      0.99      0.99     48574\n",
      "\n",
      "avg / total       1.00      1.00      1.00    247011\n",
      "\n"
     ]
    },
    {
     "data": {
      "image/png": "[encoded data removed]",
      "text/plain": [
       "<Figure size 432x288 with 2 Axes>"
      ]
     },
     "metadata": {},
     "output_type": "display_data"
    }
   ],
   "source": [
    "##第二组测试##\n",
    "second_test = FeaturePreprocessing(second_test)\n",
    "test_X = second_test[['protocol_type', 'service'] + Features_num] \n",
    "pred_test2_y = model.predict(test_X, num_iteration=model.best_iteration)\n",
    "modelCheck(pred_test2_y, second_test)"
   ]
  },
  {
   "cell_type": "code",
   "execution_count": 26,
   "metadata": {},
   "outputs": [
    {
     "name": "stderr",
     "output_type": "stream",
     "text": [
      "/home/huge/anaconda3/lib/python3.6/site-packages/ipykernel/zmqshell.py:537: PerformanceWarning: indexing past lexsort depth may impact performance.\n",
      "  return super(ZMQInteractiveShell, self).run_cell(*args, **kwargs)\n",
      "/home/huge/anaconda3/lib/python3.6/site-packages/pandas/core/indexing.py:543: SettingWithCopyWarning: \n",
      "A value is trying to be set on a copy of a slice from a DataFrame.\n",
      "Try using .loc[row_indexer,col_indexer] = value instead\n",
      "\n",
      "See the caveats in the documentation: http://pandas.pydata.org/pandas-docs/stable/indexing.html#indexing-view-versus-copy\n",
      "  self.obj[item] = s\n"
     ]
    },
    {
     "name": "stdout",
     "output_type": "stream",
     "text": [
      "protocol_type\n",
      "service\n",
      "label\n",
      "[[110894     14      6      0   3829]\n",
      " [    86   1354      0      2    612]\n",
      " [     9      9    593      4   7489]\n",
      " [     1      4      2      3    113]\n",
      " [   147     85     87     11  30160]]\n",
      "总体识别率为： 0.9195570816775338\n",
      "normal识别率为 0.9664554700504606\n",
      "Dos识别率 0.6592015579357352\n",
      "Probing识别率 0.07317374136229023\n",
      "R2L识别率 0.9891767792718924\n",
      "U2R识别率 0.024390243902439025\n"
     ]
    },
    {
     "data": {
      "image/png": "[encoded data removed]",
      "text/plain": [
       "<Figure size 288x288 with 1 Axes>"
      ]
     },
     "metadata": {},
     "output_type": "display_data"
    },
    {
     "name": "stdout",
     "output_type": "stream",
     "text": [
      "             precision    recall  f1-score   support\n",
      "\n",
      "          0       1.00      0.97      0.98    114743\n",
      "          1       0.92      0.66      0.77      2054\n",
      "          2       0.86      0.07      0.13      8104\n",
      "          3       0.15      0.02      0.04       123\n",
      "          4       0.71      0.99      0.83     30490\n",
      "\n",
      "avg / total       0.93      0.92      0.90    155514\n",
      "\n"
     ]
    },
    {
     "data": {
      "image/png": "[encoded data removed]",
      "text/plain": [
       "<Figure size 432x288 with 2 Axes>"
      ]
     },
     "metadata": {},
     "output_type": "display_data"
    }
   ],
   "source": [
    "##第三组测试##\n",
    "third_test = FeaturePreprocessing(third_test)\n",
    "test_X = third_test[['protocol_type', 'service'] + Features_num] \n",
    "pred_test3_y = model.predict(test_X, num_iteration=model.best_iteration)\n",
    "modelCheck(pred_test3_y, third_test)"
   ]
  },
  {
   "cell_type": "code",
   "execution_count": 27,
   "metadata": {},
   "outputs": [
    {
     "name": "stderr",
     "output_type": "stream",
     "text": [
      "/home/huge/anaconda3/lib/python3.6/site-packages/ipykernel/zmqshell.py:537: PerformanceWarning: indexing past lexsort depth may impact performance.\n",
      "  return super(ZMQInteractiveShell, self).run_cell(*args, **kwargs)\n",
      "/home/huge/anaconda3/lib/python3.6/site-packages/pandas/core/indexing.py:543: SettingWithCopyWarning: \n",
      "A value is trying to be set on a copy of a slice from a DataFrame.\n",
      "Try using .loc[row_indexer,col_indexer] = value instead\n",
      "\n",
      "See the caveats in the documentation: http://pandas.pydata.org/pandas-docs/stable/indexing.html#indexing-view-versus-copy\n",
      "  self.obj[item] = s\n"
     ]
    },
    {
     "name": "stdout",
     "output_type": "stream",
     "text": [
      "protocol_type\n",
      "service\n",
      "label\n",
      "[[111388      5      6      0   3711]\n",
      " [    95   1376      3      0    638]\n",
      " [     9     15    554      6   7501]\n",
      " [     1      1      5      1     97]\n",
      " [   131     73     63      8  29828]]\n",
      "总体识别率为： 0.9204706941452593\n",
      "normal识别率为 0.967665711058987\n",
      "Dos识别率 0.6515151515151515\n",
      "Probing识别率 0.06852195423623995\n",
      "R2L识别率 0.9908646978706441\n",
      "U2R识别率 0.009523809523809525\n"
     ]
    },
    {
     "data": {
      "image/png": "[encoded data removed]",
      "text/plain": [
       "<Figure size 288x288 with 1 Axes>"
      ]
     },
     "metadata": {},
     "output_type": "display_data"
    },
    {
     "name": "stdout",
     "output_type": "stream",
     "text": [
      "             precision    recall  f1-score   support\n",
      "\n",
      "          0       1.00      0.97      0.98    115110\n",
      "          1       0.94      0.65      0.77      2112\n",
      "          2       0.88      0.07      0.13      8085\n",
      "          3       0.07      0.01      0.02       105\n",
      "          4       0.71      0.99      0.83     30103\n",
      "\n",
      "avg / total       0.94      0.92      0.90    155515\n",
      "\n"
     ]
    },
    {
     "data": {
      "image/png": "[encoded data removed]",
      "text/plain": [
       "<Figure size 432x288 with 2 Axes>"
      ]
     },
     "metadata": {},
     "output_type": "display_data"
    }
   ],
   "source": [
    "##第四组测试##\n",
    "forth_test = FeaturePreprocessing(forth_test)\n",
    "test_X = forth_test[['protocol_type', 'service'] + Features_num] \n",
    "pred_test4_y = model.predict(test_X, num_iteration=model.best_iteration)\n",
    "modelCheck(pred_test4_y, forth_test)"
   ]
  },
  {
   "cell_type": "markdown",
   "metadata": {},
   "source": [
    "### 此处需要区分已知入侵和未知入侵？？？\n",
    "testLabeled_df"
   ]
  },
  {
   "cell_type": "code",
   "execution_count": 47,
   "metadata": {},
   "outputs": [
    {
     "name": "stdout",
     "output_type": "stream",
     "text": [
      "protocol_type\n",
      "service\n",
      "flag\n",
      "label\n"
     ]
    }
   ],
   "source": [
    "FeaturePreprocession()\n",
    "##归类类别标签##\n",
    "labels_Normal = ['normal.']\n",
    "labels_Dos = ['back.', 'land.', 'neptune.', 'pod.', 'smurf.', 'teardrop.'] + ['apache2.', 'mailbomb.', 'processtable.', 'udpstorm.']\n",
    "labels_Probing = ['ipsweep.', 'nmap.', 'portsweep.', 'satan.'] + ['mscan.', 'saint.']\n",
    "labels_R2L = ['ftp_write.', 'guess_passwd.', 'imap.', 'multihop.', 'phf.', 'spy.', 'warezclient.', 'warezmaster.'] + [\n",
    "                'named.', 'sendmail.', 'snmpgeattack.', 'snmpguess.', 'worm.', 'xlock.', 'xsnoop.']\n",
    "labels_U2R = ['buffer_overflow.', 'loadmodule.', 'perl.', 'rootkit.'] + ['httptunnel.', 'ps.', 'sqlattack.', 'xterm.']\n",
    "\n",
    "testLabeled_df.loc[testLabeled_df['label']=='normal.', 'label'] = 'normal'\n",
    "testLabeled_df.loc[testLabeled_df['label'].isin(labels_Dos), 'label'] = 'Dos'\n",
    "testLabeled_df.loc[testLabeled_df['label'].isin(labels_Probing), 'label'] = 'Probing'\n",
    "testLabeled_df.loc[testLabeled_df['label'].isin(labels_R2L), 'label'] = 'R2L'\n",
    "testLabeled_df.loc[testLabeled_df['label'].isin(labels_U2R), 'label'] = 'U2R'\n",
    "\n",
    "##特征编码和数值化##\n",
    "Features_NonNumerical = ['protocol_type', 'service', 'flag', 'label']\n",
    "for col in Features_NonNumerical:\n",
    "    print(col)\n",
    "    lbl = preprocessing.LabelEncoder()\n",
    "    lbl.fit(list(testLabeled_df[col].values.astype('str')))\n",
    "    testLabeled_df[col] = lbl.transform(list(testLabeled_df[col].values.astype('str')))\n",
    "\n",
    "Features_num = ['duration', 'src_bytes','dst_bytes','land','wrong_fragment','urgent',\n",
    "                 'hot','num_failed_logins','logged_in','num_compromised','root_shell','su_attempted','num_root',\n",
    "                  'num_file_creations','num_shells','num_access_files','num_outbound_cmds','is_hot_login','is_guest_login',\n",
    "                 'count','srv_count','serror_rate','srv_serror_rate','rerror_rate','srv_rerror_rate','same_srv_rate',\n",
    "                  'diff_srv_rate','srv_diff_host_rate',\n",
    "                 'dst_hosts_count','dst_host_srv_count','dst_host_same_srv_rate','dst_host_diff_srv_rate',\n",
    "                  'dst_host_same_src_port_rate','dst_host_srv_diff_host_rate','dst_host_serror_rate',\n",
    "                  'dst_host_srv_serror_rate','dst_host_rerror_rate','st_host_srv_rerror_rate' ]    \n",
    "for col in Features_num:\n",
    "    testLabeled_df[col] = testLabeled_df[col].astype(float)\n",
    "\n",
    "##预测##\n",
    "predLabeled_test = model.predict(testLabeled_df, num_iteration=model.best_iteration)"
   ]
  },
  {
   "cell_type": "code",
   "execution_count": 49,
   "metadata": {},
   "outputs": [
    {
     "data": {
      "text/plain": [
       "65"
      ]
     },
     "execution_count": 49,
     "metadata": {},
     "output_type": "execute_result"
    }
   ],
   "source": [
    "testLabeled_df['service'].nunique()"
   ]
  },
  {
   "cell_type": "code",
   "execution_count": 42,
   "metadata": {},
   "outputs": [
    {
     "name": "stdout",
     "output_type": "stream",
     "text": [
      "             precision    recall  f1-score   support\n",
      "\n",
      "          0       1.00      1.00      1.00     74833\n",
      "          1       1.00      0.96      0.98       310\n",
      "          2       0.00      0.00      0.00         1\n",
      "          3       0.90      0.60      0.72        15\n",
      "          4       0.99      1.00      0.99     18862\n",
      "\n",
      "avg / total       1.00      1.00      1.00     94021\n",
      "\n"
     ]
    },
    {
     "data": {
      "text/plain": [
       "<matplotlib.image.AxesImage at 0x7fd9f5db9898>"
      ]
     },
     "execution_count": 42,
     "metadata": {},
     "output_type": "execute_result"
    },
    {
     "data": {
      "image/png": "[encoded data removed]",
      "text/plain": [
       "<Figure size 432x288 with 2 Axes>"
      ]
     },
     "metadata": {},
     "output_type": "display_data"
    },
    {
     "data": {
      "image/png": "[encoded data removed]",
      "text/plain": [
       "<Figure size 288x288 with 1 Axes>"
      ]
     },
     "metadata": {},
     "output_type": "display_data"
    }
   ],
   "source": [
    "predictionTest_val=[]\n",
    "for x in predLabeled_test:\n",
    "    predictionTest_val.append(np.argmax(x))\n",
    "\n",
    "##多分类评估热点图##\n",
    "import seaborn as sns\n",
    "from sklearn.metrics import confusion_matrix\n",
    "cm = confusion_matrix(testLabeled_df['label'], predictionTest_val)\n",
    "cm_df = pd.DataFrame(cm)\n",
    "sns.heatmap(cm_df, annot=True)\n",
    "\n",
    "##查看多分类的评估报告##\n",
    "from sklearn.metrics import classification_report\n",
    "print(classification_report(val_df['label'], prediction_val))   #精确率和召回率，f1-score，支持数support\n",
    "\n",
    "import matplotlib.pyplot as plt   #导入作图函数\n",
    "plt.matshow(cm,cmap=plt.cm.Greens)   #矩阵图可视化"
   ]
  },
  {
   "cell_type": "code",
   "execution_count": 19,
   "metadata": {},
   "outputs": [],
   "source": [
    "# ##加载不含标签的测试集##\n",
    "# import pandas as pd\n",
    "\n",
    "# Features_nolabeled=['duration','protocol_type','service','flag','src_bytes','dst_bytes','land','wrong_fragment','urgent',\n",
    "#                      'hot','num_failed_logins','logged_in','num_compromised','root_shell','su_attempted','num_root',\n",
    "#                       'num_file_creations','num_shells','num_access_files','num_outbound_cmds','is_hot_login','is_guest_login',\n",
    "#                      'count','srv_count','serror_rate','srv_serror_rate','rerror_rate','srv_rerror_rate','same_srv_rate',\n",
    "#                       'diff_srv_rate','srv_diff_host_rate',\n",
    "#                      'dst_hosts_count','dst_host_srv_count','dst_host_same_srv_rate','dst_host_diff_srv_rate',\n",
    "#                       'dst_host_same_src_port_rate','dst_host_srv_diff_host_rate','dst_host_serror_rate',\n",
    "#                       'dst_host_srv_serror_rate','dst_host_rerror_rate','st_host_srv_rerror_rate']\n",
    "\n",
    "# test_df = pd.read_csv(\"./datafile/kddcup.newtestdata_10_percent_unlabeled\", names=Features_nolabeled)\n",
    "\n",
    "\n",
    "# Features_NonNumerical = ['protocol_type', 'service', 'flag']\n",
    "# for col in Features_NonNumerical:\n",
    "#     print(col)\n",
    "#     lbl = preprocessing.LabelEncoder()\n",
    "#     lbl.fit(list(test_df[col].values.astype('str')))\n",
    "#     test_df[col] = lbl.transform(list(test_df[col].values.astype('str')))\n",
    "\n",
    "# Features_num = ['duration', 'src_bytes','dst_bytes','land','wrong_fragment','urgent',\n",
    "#                  'hot','num_failed_logins','logged_in','num_compromised','root_shell','su_attempted','num_root',\n",
    "#                   'num_file_creations','num_shells','num_access_files','num_outbound_cmds','is_hot_login','is_guest_login',\n",
    "#                  'count','srv_count','serror_rate','srv_serror_rate','rerror_rate','srv_rerror_rate','same_srv_rate',\n",
    "#                   'diff_srv_rate','srv_diff_host_rate',\n",
    "#                  'dst_hosts_count','dst_host_srv_count','dst_host_same_srv_rate','dst_host_diff_srv_rate',\n",
    "#                   'dst_host_same_src_port_rate','dst_host_srv_diff_host_rate','dst_host_serror_rate',\n",
    "#                   'dst_host_srv_serror_rate','dst_host_rerror_rate','st_host_srv_rerror_rate' ]    \n",
    "# for col in Features_num:\n",
    "#     test_df[col] = test_df[col].astype(float)\n",
    "\n",
    "# pred_test = model.predict(test_df, num_iteration=model.best_iteration)"
   ]
  }
 ],
 "metadata": {
  "kernelspec": {
   "display_name": "Python 3",
   "language": "python",
   "name": "python3"
  },
  "language_info": {
   "codemirror_mode": {
    "name": "ipython",
    "version": 3
   },
   "file_extension": ".py",
   "mimetype": "text/x-python",
   "name": "python",
   "nbconvert_exporter": "python",
   "pygments_lexer": "ipython3",
   "version": "3.6.5"
  }
 },
 "nbformat": 4,
 "nbformat_minor": 2
}
